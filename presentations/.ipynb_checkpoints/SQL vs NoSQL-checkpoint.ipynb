{
 "cells": [
  {
   "cell_type": "markdown",
   "metadata": {
    "nbpresent": {
     "id": "455d5897-d836-4ef5-8adb-d6d12522611a"
    }
   },
   "source": [
    "# SQL vs NoSQL"
   ]
  },
  {
   "cell_type": "markdown",
   "metadata": {
    "nbpresent": {
     "id": "7f231406-77d7-40a3-8eff-2666d0753635"
    }
   },
   "source": [
    "## Introduction\n",
    "\n",
    "### SQL\n",
    "\n",
    "An SQL database contains data organized in tables. These tables have a predefined structure, much like a data frame, in the sense that variables are represented by columns and individual data points are represented as rows:\n",
    "\n",
    "<p align=\"left\">\n",
    "<img src=\"images/SQL.png\" style=\"width: 600px;\"/>\n",
    "</p>\n",
    "<sub>Source: BUCKLER, Craig: \"SQL vs NoSQL: The Differences\", 2015 on SitePoint.com</sub>\n",
    "\n",
    "\n",
    "### NoSQL\n",
    "NoSQL data on the other hand are organized in nodes, much like a tree structure. Instead of rows, the main units are metaphorically named *documents*<sup>1</sup>. These units differ significantly from SQL rows since data points do not need to contain the same variables as others. \n",
    "\n",
    "<p align=\"left\">\n",
    "<img src=\"images/NoSQL.png\" style=\"width: 600px;\"/>\n",
    "</p>\n",
    "<sub>Source: BUCKLER, Craig: \"SQL vs NoSQL: The Differences\", 2015 on SitePoint.com</sub>\n",
    "\n",
    "\n",
    "In this aspect NoSQL is more versatile: If extra information for a certain element is available, it can be immediately added to the database. However, if this is not done cautiously, the lack of structure in the data can make analysis and maintenance very difficult. SQL's requirement of formal definitions for tables can be seen an advantage to avoid this situation.\n",
    "\n",
    "<sub>1. There are several NoSQL paradigms, such as Key-Value Stores, Column Stores and Graph Databases (Source: SHAH, Smit on \"Why NoSQL database is used by Facebook, Google and LinkedIn Applications?\", Outsourcing Partners, 2012).</sub>\n",
    "\n",
    "<sub>For brevity, this presentation will only consider NoSQL implementations that use the *Document Store* approach.</sub>\n"
   ]
  },
  {
   "cell_type": "markdown",
   "metadata": {
    "nbpresent": {
     "id": "6eb3af55-2a8e-4cf4-84c8-bb8c5183dc9e"
    }
   },
   "source": [
    "## Case Study: Designing a CRM database\n",
    "\n",
    "### The Application\n",
    "\n",
    "To illustrate the differences in using SQL and NoSQL, we will design a database tool to keep track of student presentation topics and their contact information using both database paradigms.\n",
    "\n",
    "Basic functionality requires keeping track of:\n",
    "\n",
    "1. Students\n",
    "2. Contact info\n",
    "3. Each student's presentation topics\n",
    "\n",
    "To begin, let's start looking at the raw data we have available:"
   ]
  },
  {
   "cell_type": "code",
   "execution_count": 1,
   "metadata": {
    "collapsed": true,
    "nbpresent": {
     "id": "1aa9301c-0872-4c6a-a9b9-182bcfb65403"
    }
   },
   "outputs": [],
   "source": [
    "students = ['Aysja Johnson',\n",
    "            'Gabriel Augusto Sanchez',\n",
    "            'Ivan Dimitrov',\n",
    "            'Jimin Yu',\n",
    "            'Karen Leung',\n",
    "            'Kurt Brown',\n",
    "            'Matt Bartholomew',\n",
    "            'Nathan Helm Burger',\n",
    "            'Rafael Lacerda',\n",
    "            'Zi (Russ) Gu',\n",
    "            'Sven Chilton',\n",
    "            'Tegan McCaslin'\n",
    "           ]\n",
    "\n",
    "# The contacts list is ordered by their corresponding student.\n",
    "contacts = ['aysjajohnson@gmail.com',\n",
    "            'gebsanchez@gmail.com',\n",
    "            'ivan@emailio.com',\n",
    "            'jy1003@nyu.edu',\n",
    "            'kleung92@gmail.com',\n",
    "            'kurtbrown137@gmail.com',\n",
    "            'bartholomatt@gmail.com',\n",
    "            'nathan.helm.burger@gmail.com',\n",
    "            'rafaelplmelo@gmail.com',\n",
    "            'rustygu@gmail.com',\n",
    "            'sven.chilton@gmail.com',\n",
    "            'tegan.mccaslin@gmail.com'\n",
    "]\n",
    "\n",
    "# The subjects list is ordered by their corresponding student.\n",
    "subjects = [['Semi-supervised learning'],\n",
    "            ['Time series analysis'],\n",
    "            ['Network analysis', 'Social networks'],\n",
    "            ['Association rules'],\n",
    "            ['Shiny'],\n",
    "            ['Bayesian methods', 'Multi-level modeling', 'Hierarchical methods'],\n",
    "            ['Apache Spark'],\n",
    "            ['MapReduce', 'Apache Hadoop'],\n",
    "            ['SQL vs. NoSQL'],\n",
    "            ['Multiple hypothesis testing', 'Bonferroni correction', 'A/B testing', 'Multi-armed bandit'],\n",
    "            ['Support vector machines'],\n",
    "            ['Markov models', 'Hidden Markov models']\n",
    "           ]"
   ]
  },
  {
   "cell_type": "markdown",
   "metadata": {
    "nbpresent": {
     "id": "424449ce-80f4-4720-b070-6c48a0214a49"
    }
   },
   "source": [
    "### Interacting with the database\n",
    "\n",
    "Simple outline:\n",
    "1. Initialize the database\n",
    "2. Create entity that will hold our data\n",
    "3. Insert the data\n",
    "4. Retrieve the data\n",
    "\n",
    "For this tutorial, we will use simple database systems that store the data locally, as opposed to more common and robust database technologies that rely on servers, authentication and networking.\n",
    "\n",
    "#### SQL\n",
    "Let's start off with SQL, using the SQLite package:"
   ]
  },
  {
   "cell_type": "code",
   "execution_count": 22,
   "metadata": {
    "collapsed": false,
    "nbpresent": {
     "id": "69830444-038a-473e-92f2-943c48c60e20"
    }
   },
   "outputs": [],
   "source": [
    "\"\"\"\n",
    "Database Initialization\n",
    "\"\"\"\n",
    "\n",
    "# Using sqlite3 to store and retrieve data.\n",
    "import sqlite3 as sql\n",
    "# Using pandas to have dataframe functionality\n",
    "import pandas as pd\n",
    "\n",
    "# This also creates a database file if it doesn't already exist.\n",
    "connection = sql.connect(\"sqlite.db\")\n",
    "# This is a standard precaution to avoid database locks - 30s\n",
    "connection.execute(\"PRAGMA busy_timeout = 30000;\")\n",
    "connection.execute(\"PRAGMA foreign_keys = ON;\")\n",
    "\n",
    "# Since we want to rebuild the database every time we run this,\n",
    "# drop everything that already exists.\n",
    "init_script = \"\"\"\n",
    "    PRAGMA writable_schema = 1;\n",
    "    delete from sqlite_master where type in ('table', 'index', 'trigger');\n",
    "    PRAGMA writable_schema = 0;\n",
    "    VACUUM;\n",
    "    PRAGMA INTEGRITY_CHECK;\n",
    "\"\"\"\n",
    "connection.executescript(init_script)\n",
    "\n",
    "# This is the main object we will use to execute database commands\n",
    "# and retrieve data.\n",
    "cursor = connection.cursor()"
   ]
  },
  {
   "cell_type": "code",
   "execution_count": 23,
   "metadata": {
    "collapsed": false,
    "nbpresent": {
     "id": "5bfa1b10-16be-4a6f-8754-a71079edc818"
    }
   },
   "outputs": [
    {
     "data": {
      "text/plain": [
       "<sqlite3.Cursor at 0x111c41a40>"
      ]
     },
     "execution_count": 23,
     "metadata": {},
     "output_type": "execute_result"
    }
   ],
   "source": [
    "\"\"\"\n",
    "Creating data entity\n",
    "\"\"\"\n",
    "\n",
    "# Define table structures and create them.\n",
    "cursor.execute(\"\"\"\n",
    "                CREATE TABLE students(\n",
    "                id INTEGER PRIMARY KEY, name TEXT, email TEXT\n",
    "                );\n",
    "                \"\"\")"
   ]
  },
  {
   "cell_type": "code",
   "execution_count": 24,
   "metadata": {
    "collapsed": false,
    "nbpresent": {
     "id": "083e2bca-2e2d-4c0f-87d3-f23e77e9df78"
    }
   },
   "outputs": [
    {
     "data": {
      "text/plain": [
       "<sqlite3.Cursor at 0x111c41a40>"
      ]
     },
     "execution_count": 24,
     "metadata": {},
     "output_type": "execute_result"
    }
   ],
   "source": [
    "\"\"\"\n",
    "Insert data to our table\n",
    "\"\"\"\n",
    "\n",
    "cursor.executemany(\"\"\"\n",
    "                INSERT INTO students(name, email)\n",
    "                VALUES(?, ?);\n",
    "                \"\"\", zip(students, contacts))"
   ]
  },
  {
   "cell_type": "code",
   "execution_count": 21,
   "metadata": {
    "collapsed": false,
    "nbpresent": {
     "id": "c874d5dc-6448-4b7c-b1e6-380056eb5e20"
    }
   },
   "outputs": [
    {
     "data": {
      "text/html": [
       "<div>\n",
       "<table border=\"1\" class=\"dataframe\">\n",
       "  <thead>\n",
       "    <tr style=\"text-align: right;\">\n",
       "      <th></th>\n",
       "      <th>id</th>\n",
       "      <th>name</th>\n",
       "      <th>email</th>\n",
       "      <th>phone</th>\n",
       "    </tr>\n",
       "  </thead>\n",
       "  <tbody>\n",
       "    <tr>\n",
       "      <th>0</th>\n",
       "      <td>1</td>\n",
       "      <td>Aysja Johnson</td>\n",
       "      <td>aysjajohnson@gmail.com</td>\n",
       "      <td>None</td>\n",
       "    </tr>\n",
       "    <tr>\n",
       "      <th>1</th>\n",
       "      <td>2</td>\n",
       "      <td>Gabriel Augusto Sanchez</td>\n",
       "      <td>gebsanchez@gmail.com</td>\n",
       "      <td>None</td>\n",
       "    </tr>\n",
       "    <tr>\n",
       "      <th>2</th>\n",
       "      <td>3</td>\n",
       "      <td>Ivan Dimitrov</td>\n",
       "      <td>ivan@emailio.com</td>\n",
       "      <td>None</td>\n",
       "    </tr>\n",
       "    <tr>\n",
       "      <th>3</th>\n",
       "      <td>4</td>\n",
       "      <td>Jimin Yu</td>\n",
       "      <td>jy1003@nyu.edu</td>\n",
       "      <td>None</td>\n",
       "    </tr>\n",
       "    <tr>\n",
       "      <th>4</th>\n",
       "      <td>5</td>\n",
       "      <td>Karen Leung</td>\n",
       "      <td>kleung92@gmail.com</td>\n",
       "      <td>None</td>\n",
       "    </tr>\n",
       "    <tr>\n",
       "      <th>5</th>\n",
       "      <td>6</td>\n",
       "      <td>Kurt Brown</td>\n",
       "      <td>kurtbrown137@gmail.com</td>\n",
       "      <td>None</td>\n",
       "    </tr>\n",
       "    <tr>\n",
       "      <th>6</th>\n",
       "      <td>7</td>\n",
       "      <td>Matt Bartholomew</td>\n",
       "      <td>bartholomatt@gmail.com</td>\n",
       "      <td>None</td>\n",
       "    </tr>\n",
       "    <tr>\n",
       "      <th>7</th>\n",
       "      <td>8</td>\n",
       "      <td>Nathan Helm Burger</td>\n",
       "      <td>nathan.helm.burger@gmail.com</td>\n",
       "      <td>None</td>\n",
       "    </tr>\n",
       "    <tr>\n",
       "      <th>8</th>\n",
       "      <td>9</td>\n",
       "      <td>Rafael Lacerda</td>\n",
       "      <td>rafaelplmelo@gmail.com</td>\n",
       "      <td>None</td>\n",
       "    </tr>\n",
       "    <tr>\n",
       "      <th>9</th>\n",
       "      <td>10</td>\n",
       "      <td>Zi (Russ) Gu</td>\n",
       "      <td>rustygu@gmail.com</td>\n",
       "      <td>None</td>\n",
       "    </tr>\n",
       "    <tr>\n",
       "      <th>10</th>\n",
       "      <td>11</td>\n",
       "      <td>Sven Chilton</td>\n",
       "      <td>sven.chilton@gmail.com</td>\n",
       "      <td>None</td>\n",
       "    </tr>\n",
       "    <tr>\n",
       "      <th>11</th>\n",
       "      <td>12</td>\n",
       "      <td>Tegan McCaslin</td>\n",
       "      <td>tegan.mccaslin@gmail.com</td>\n",
       "      <td>None</td>\n",
       "    </tr>\n",
       "    <tr>\n",
       "      <th>12</th>\n",
       "      <td>13</td>\n",
       "      <td>Namey McNamerson</td>\n",
       "      <td>mcnamerson@example.com</td>\n",
       "      <td>555 555 5555</td>\n",
       "    </tr>\n",
       "  </tbody>\n",
       "</table>\n",
       "</div>"
      ],
      "text/plain": [
       "    id                     name                         email         phone\n",
       "0    1            Aysja Johnson        aysjajohnson@gmail.com          None\n",
       "1    2  Gabriel Augusto Sanchez          gebsanchez@gmail.com          None\n",
       "2    3            Ivan Dimitrov              ivan@emailio.com          None\n",
       "3    4                 Jimin Yu                jy1003@nyu.edu          None\n",
       "4    5              Karen Leung            kleung92@gmail.com          None\n",
       "5    6               Kurt Brown        kurtbrown137@gmail.com          None\n",
       "6    7         Matt Bartholomew        bartholomatt@gmail.com          None\n",
       "7    8       Nathan Helm Burger  nathan.helm.burger@gmail.com          None\n",
       "8    9           Rafael Lacerda        rafaelplmelo@gmail.com          None\n",
       "9   10             Zi (Russ) Gu             rustygu@gmail.com          None\n",
       "10  11             Sven Chilton        sven.chilton@gmail.com          None\n",
       "11  12           Tegan McCaslin      tegan.mccaslin@gmail.com          None\n",
       "12  13         Namey McNamerson        mcnamerson@example.com  555 555 5555"
      ]
     },
     "execution_count": 21,
     "metadata": {},
     "output_type": "execute_result"
    }
   ],
   "source": [
    "\"\"\"\n",
    "Data retrieval\n",
    "\"\"\"\n",
    "\n",
    "# To retrieve this information from the database, first run the query:\n",
    "cursor.execute(\"\"\"\n",
    "                SELECT *\n",
    "                FROM students;\n",
    "                \"\"\")\n",
    "# The data is now accessible via the cursor:\n",
    "sql_students = cursor.fetchall()\n",
    "sql_students_df = pd.DataFrame(data=sql_students, columns=[i[0] for i in cursor.description])\n",
    "sql_students_df"
   ]
  },
  {
   "cell_type": "markdown",
   "metadata": {
    "nbpresent": {
     "id": "c7c4f155-c6ec-46cd-b87e-ece55a87a134"
    }
   },
   "source": [
    "#### NoSQL\n",
    "\n",
    "Let's try to to the same thing using an equivalent NoSQL system, such as UnQLite."
   ]
  },
  {
   "cell_type": "code",
   "execution_count": 25,
   "metadata": {
    "collapsed": false,
    "nbpresent": {
     "id": "22ad6d64-a30d-4ade-900a-9a5ceedfa089"
    }
   },
   "outputs": [],
   "source": [
    "\"\"\"\n",
    "Database Initialization\n",
    "\"\"\"\n",
    "\n",
    "from unqlite import UnQLite\n",
    "db = UnQLite('nosql.db')"
   ]
  },
  {
   "cell_type": "code",
   "execution_count": 26,
   "metadata": {
    "collapsed": false,
    "nbpresent": {
     "id": "d5e53c33-c926-497b-9058-af7fd977cafd"
    }
   },
   "outputs": [],
   "source": [
    "\"\"\"\n",
    "Create data entity\n",
    "\"\"\"\n",
    "# We could use NoSQL as a Key/Value store, but the most salient\n",
    "# feature of NoSQL is the ability to use JSON collections.\n",
    "nosql_students = db.collection('users')\n",
    "nosql_students.drop()\n",
    "nosql_students.create()"
   ]
  },
  {
   "cell_type": "code",
   "execution_count": 27,
   "metadata": {
    "collapsed": false,
    "nbpresent": {
     "id": "33291821-48b5-4a43-a23b-6a4a361403fe"
    }
   },
   "outputs": [
    {
     "data": {
      "text/plain": [
       "11"
      ]
     },
     "execution_count": 27,
     "metadata": {},
     "output_type": "execute_result"
    }
   ],
   "source": [
    "\"\"\"\n",
    "Insert data to our students entity\n",
    "\"\"\"\n",
    "\n",
    "student_json = [dict(zip([\"name\", \"email\"], row)) for row in zip(students, contacts)]\n",
    "\n",
    "nosql_students.store(student_json)"
   ]
  },
  {
   "cell_type": "code",
   "execution_count": 28,
   "metadata": {
    "collapsed": false,
    "nbpresent": {
     "id": "0c5b01fc-dbb8-42b5-9860-1bdd5d50b72a"
    },
    "scrolled": true
   },
   "outputs": [
    {
     "data": {
      "text/html": [
       "<div>\n",
       "<table border=\"1\" class=\"dataframe\">\n",
       "  <thead>\n",
       "    <tr style=\"text-align: right;\">\n",
       "      <th></th>\n",
       "      <th>__id</th>\n",
       "      <th>email</th>\n",
       "      <th>name</th>\n",
       "    </tr>\n",
       "  </thead>\n",
       "  <tbody>\n",
       "    <tr>\n",
       "      <th>0</th>\n",
       "      <td>0</td>\n",
       "      <td>aysjajohnson@gmail.com</td>\n",
       "      <td>Aysja Johnson</td>\n",
       "    </tr>\n",
       "    <tr>\n",
       "      <th>1</th>\n",
       "      <td>1</td>\n",
       "      <td>gebsanchez@gmail.com</td>\n",
       "      <td>Gabriel Augusto Sanchez</td>\n",
       "    </tr>\n",
       "    <tr>\n",
       "      <th>2</th>\n",
       "      <td>2</td>\n",
       "      <td>ivan@emailio.com</td>\n",
       "      <td>Ivan Dimitrov</td>\n",
       "    </tr>\n",
       "    <tr>\n",
       "      <th>3</th>\n",
       "      <td>3</td>\n",
       "      <td>jy1003@nyu.edu</td>\n",
       "      <td>Jimin Yu</td>\n",
       "    </tr>\n",
       "    <tr>\n",
       "      <th>4</th>\n",
       "      <td>4</td>\n",
       "      <td>kleung92@gmail.com</td>\n",
       "      <td>Karen Leung</td>\n",
       "    </tr>\n",
       "    <tr>\n",
       "      <th>5</th>\n",
       "      <td>5</td>\n",
       "      <td>kurtbrown137@gmail.com</td>\n",
       "      <td>Kurt Brown</td>\n",
       "    </tr>\n",
       "    <tr>\n",
       "      <th>6</th>\n",
       "      <td>6</td>\n",
       "      <td>bartholomatt@gmail.com</td>\n",
       "      <td>Matt Bartholomew</td>\n",
       "    </tr>\n",
       "    <tr>\n",
       "      <th>7</th>\n",
       "      <td>7</td>\n",
       "      <td>nathan.helm.burger@gmail.com</td>\n",
       "      <td>Nathan Helm Burger</td>\n",
       "    </tr>\n",
       "    <tr>\n",
       "      <th>8</th>\n",
       "      <td>8</td>\n",
       "      <td>rafaelplmelo@gmail.com</td>\n",
       "      <td>Rafael Lacerda</td>\n",
       "    </tr>\n",
       "    <tr>\n",
       "      <th>9</th>\n",
       "      <td>9</td>\n",
       "      <td>rustygu@gmail.com</td>\n",
       "      <td>Zi (Russ) Gu</td>\n",
       "    </tr>\n",
       "    <tr>\n",
       "      <th>10</th>\n",
       "      <td>10</td>\n",
       "      <td>sven.chilton@gmail.com</td>\n",
       "      <td>Sven Chilton</td>\n",
       "    </tr>\n",
       "    <tr>\n",
       "      <th>11</th>\n",
       "      <td>11</td>\n",
       "      <td>tegan.mccaslin@gmail.com</td>\n",
       "      <td>Tegan McCaslin</td>\n",
       "    </tr>\n",
       "  </tbody>\n",
       "</table>\n",
       "</div>"
      ],
      "text/plain": [
       "    __id                         email                     name\n",
       "0      0        aysjajohnson@gmail.com            Aysja Johnson\n",
       "1      1          gebsanchez@gmail.com  Gabriel Augusto Sanchez\n",
       "2      2              ivan@emailio.com            Ivan Dimitrov\n",
       "3      3                jy1003@nyu.edu                 Jimin Yu\n",
       "4      4            kleung92@gmail.com              Karen Leung\n",
       "5      5        kurtbrown137@gmail.com               Kurt Brown\n",
       "6      6        bartholomatt@gmail.com         Matt Bartholomew\n",
       "7      7  nathan.helm.burger@gmail.com       Nathan Helm Burger\n",
       "8      8        rafaelplmelo@gmail.com           Rafael Lacerda\n",
       "9      9             rustygu@gmail.com             Zi (Russ) Gu\n",
       "10    10        sven.chilton@gmail.com             Sven Chilton\n",
       "11    11      tegan.mccaslin@gmail.com           Tegan McCaslin"
      ]
     },
     "execution_count": 28,
     "metadata": {},
     "output_type": "execute_result"
    }
   ],
   "source": [
    "\"\"\"\n",
    "Data retrieval\n",
    "\"\"\"\n",
    "nosql_students_df = pd.DataFrame(nosql_students.all())\n",
    "nosql_students_df"
   ]
  },
  {
   "cell_type": "markdown",
   "metadata": {
    "nbpresent": {
     "id": "1159340b-9159-49a8-bb47-a03c9a43dfcf"
    }
   },
   "source": [
    "### Differences so far\n",
    "\n",
    "#### Ease of use\n",
    "It may seem at first that NoSQL has a much simpler interface, but this is not necessarily true. It is trivial to set up an Object-Relational Mapping tool (ORM) such as SQL Alchemy that will provide a simple interface for several SQL and NoSQL databases, which would mostly let the user forget what kind of database is running on the backend.\n",
    "\n",
    "#### Formalisms\n",
    "Syntax aside, SQL also requires that tables be defined beforehand, detailing the exact variables to be used and their corresponding data types. On the other hand, not only does NoSQL let you define variables on-the-fly, it also allows for elements to have different variables!\n",
    "\n",
    "Let's add a new student to our cohort who has extra contact information:"
   ]
  },
  {
   "cell_type": "code",
   "execution_count": 29,
   "metadata": {
    "collapsed": false,
    "nbpresent": {
     "id": "0f4a7b57-0194-47bf-b043-3349041ffb8d"
    }
   },
   "outputs": [
    {
     "data": {
      "text/html": [
       "<div>\n",
       "<table border=\"1\" class=\"dataframe\">\n",
       "  <thead>\n",
       "    <tr style=\"text-align: right;\">\n",
       "      <th></th>\n",
       "      <th>id</th>\n",
       "      <th>name</th>\n",
       "      <th>email</th>\n",
       "      <th>phone</th>\n",
       "    </tr>\n",
       "  </thead>\n",
       "  <tbody>\n",
       "    <tr>\n",
       "      <th>0</th>\n",
       "      <td>1</td>\n",
       "      <td>Aysja Johnson</td>\n",
       "      <td>aysjajohnson@gmail.com</td>\n",
       "      <td>None</td>\n",
       "    </tr>\n",
       "    <tr>\n",
       "      <th>1</th>\n",
       "      <td>2</td>\n",
       "      <td>Gabriel Augusto Sanchez</td>\n",
       "      <td>gebsanchez@gmail.com</td>\n",
       "      <td>None</td>\n",
       "    </tr>\n",
       "    <tr>\n",
       "      <th>2</th>\n",
       "      <td>3</td>\n",
       "      <td>Ivan Dimitrov</td>\n",
       "      <td>ivan@emailio.com</td>\n",
       "      <td>None</td>\n",
       "    </tr>\n",
       "    <tr>\n",
       "      <th>3</th>\n",
       "      <td>4</td>\n",
       "      <td>Jimin Yu</td>\n",
       "      <td>jy1003@nyu.edu</td>\n",
       "      <td>None</td>\n",
       "    </tr>\n",
       "    <tr>\n",
       "      <th>4</th>\n",
       "      <td>5</td>\n",
       "      <td>Karen Leung</td>\n",
       "      <td>kleung92@gmail.com</td>\n",
       "      <td>None</td>\n",
       "    </tr>\n",
       "    <tr>\n",
       "      <th>5</th>\n",
       "      <td>6</td>\n",
       "      <td>Kurt Brown</td>\n",
       "      <td>kurtbrown137@gmail.com</td>\n",
       "      <td>None</td>\n",
       "    </tr>\n",
       "    <tr>\n",
       "      <th>6</th>\n",
       "      <td>7</td>\n",
       "      <td>Matt Bartholomew</td>\n",
       "      <td>bartholomatt@gmail.com</td>\n",
       "      <td>None</td>\n",
       "    </tr>\n",
       "    <tr>\n",
       "      <th>7</th>\n",
       "      <td>8</td>\n",
       "      <td>Nathan Helm Burger</td>\n",
       "      <td>nathan.helm.burger@gmail.com</td>\n",
       "      <td>None</td>\n",
       "    </tr>\n",
       "    <tr>\n",
       "      <th>8</th>\n",
       "      <td>9</td>\n",
       "      <td>Rafael Lacerda</td>\n",
       "      <td>rafaelplmelo@gmail.com</td>\n",
       "      <td>None</td>\n",
       "    </tr>\n",
       "    <tr>\n",
       "      <th>9</th>\n",
       "      <td>10</td>\n",
       "      <td>Zi (Russ) Gu</td>\n",
       "      <td>rustygu@gmail.com</td>\n",
       "      <td>None</td>\n",
       "    </tr>\n",
       "    <tr>\n",
       "      <th>10</th>\n",
       "      <td>11</td>\n",
       "      <td>Sven Chilton</td>\n",
       "      <td>sven.chilton@gmail.com</td>\n",
       "      <td>None</td>\n",
       "    </tr>\n",
       "    <tr>\n",
       "      <th>11</th>\n",
       "      <td>12</td>\n",
       "      <td>Tegan McCaslin</td>\n",
       "      <td>tegan.mccaslin@gmail.com</td>\n",
       "      <td>None</td>\n",
       "    </tr>\n",
       "    <tr>\n",
       "      <th>12</th>\n",
       "      <td>13</td>\n",
       "      <td>Namey McNamerson</td>\n",
       "      <td>mcnamerson@example.com</td>\n",
       "      <td>555 555 5555</td>\n",
       "    </tr>\n",
       "  </tbody>\n",
       "</table>\n",
       "</div>"
      ],
      "text/plain": [
       "    id                     name                         email         phone\n",
       "0    1            Aysja Johnson        aysjajohnson@gmail.com          None\n",
       "1    2  Gabriel Augusto Sanchez          gebsanchez@gmail.com          None\n",
       "2    3            Ivan Dimitrov              ivan@emailio.com          None\n",
       "3    4                 Jimin Yu                jy1003@nyu.edu          None\n",
       "4    5              Karen Leung            kleung92@gmail.com          None\n",
       "5    6               Kurt Brown        kurtbrown137@gmail.com          None\n",
       "6    7         Matt Bartholomew        bartholomatt@gmail.com          None\n",
       "7    8       Nathan Helm Burger  nathan.helm.burger@gmail.com          None\n",
       "8    9           Rafael Lacerda        rafaelplmelo@gmail.com          None\n",
       "9   10             Zi (Russ) Gu             rustygu@gmail.com          None\n",
       "10  11             Sven Chilton        sven.chilton@gmail.com          None\n",
       "11  12           Tegan McCaslin      tegan.mccaslin@gmail.com          None\n",
       "12  13         Namey McNamerson        mcnamerson@example.com  555 555 5555"
      ]
     },
     "execution_count": 29,
     "metadata": {},
     "output_type": "execute_result"
    }
   ],
   "source": [
    "# SQL\n",
    "cursor.execute(\"\"\"\n",
    "                ALTER TABLE students\n",
    "                ADD COLUMN phone TEXT;\n",
    "                \"\"\")\n",
    "cursor.execute(\"\"\"\n",
    "                INSERT INTO students(name, email, phone)\n",
    "                VALUES('Namey McNamerson',\n",
    "                'mcnamerson@example.com',\n",
    "                '555 555 5555');\n",
    "                \"\"\")\n",
    "cursor.execute(\"\"\"\n",
    "                SELECT *\n",
    "                FROM students;\n",
    "                \"\"\")\n",
    "sql_students = cursor.fetchall()\n",
    "sql_students_df = pd.DataFrame(data=sql_students, columns=[i[0] for i in cursor.description])\n",
    "sql_students_df"
   ]
  },
  {
   "cell_type": "code",
   "execution_count": 11,
   "metadata": {
    "collapsed": false,
    "nbpresent": {
     "id": "92ba4d4b-d1df-40d2-950a-8d923c329eaf"
    }
   },
   "outputs": [
    {
     "data": {
      "text/html": [
       "<div>\n",
       "<table border=\"1\" class=\"dataframe\">\n",
       "  <thead>\n",
       "    <tr style=\"text-align: right;\">\n",
       "      <th></th>\n",
       "      <th>__id</th>\n",
       "      <th>email</th>\n",
       "      <th>name</th>\n",
       "      <th>phone</th>\n",
       "    </tr>\n",
       "  </thead>\n",
       "  <tbody>\n",
       "    <tr>\n",
       "      <th>0</th>\n",
       "      <td>0</td>\n",
       "      <td>aysjajohnson@gmail.com</td>\n",
       "      <td>Aysja Johnson</td>\n",
       "      <td>NaN</td>\n",
       "    </tr>\n",
       "    <tr>\n",
       "      <th>1</th>\n",
       "      <td>1</td>\n",
       "      <td>gebsanchez@gmail.com</td>\n",
       "      <td>Gabriel Augusto Sanchez</td>\n",
       "      <td>NaN</td>\n",
       "    </tr>\n",
       "    <tr>\n",
       "      <th>2</th>\n",
       "      <td>2</td>\n",
       "      <td>ivan@emailio.com</td>\n",
       "      <td>Ivan Dimitrov</td>\n",
       "      <td>NaN</td>\n",
       "    </tr>\n",
       "    <tr>\n",
       "      <th>3</th>\n",
       "      <td>3</td>\n",
       "      <td>jy1003@nyu.edu</td>\n",
       "      <td>Jimin Yu</td>\n",
       "      <td>NaN</td>\n",
       "    </tr>\n",
       "    <tr>\n",
       "      <th>4</th>\n",
       "      <td>4</td>\n",
       "      <td>kleung92@gmail.com</td>\n",
       "      <td>Karen Leung</td>\n",
       "      <td>NaN</td>\n",
       "    </tr>\n",
       "    <tr>\n",
       "      <th>5</th>\n",
       "      <td>5</td>\n",
       "      <td>kurtbrown137@gmail.com</td>\n",
       "      <td>Kurt Brown</td>\n",
       "      <td>NaN</td>\n",
       "    </tr>\n",
       "    <tr>\n",
       "      <th>6</th>\n",
       "      <td>6</td>\n",
       "      <td>bartholomatt@gmail.com</td>\n",
       "      <td>Matt Bartholomew</td>\n",
       "      <td>NaN</td>\n",
       "    </tr>\n",
       "    <tr>\n",
       "      <th>7</th>\n",
       "      <td>7</td>\n",
       "      <td>nathan.helm.burger@gmail.com</td>\n",
       "      <td>Nathan Helm Burger</td>\n",
       "      <td>NaN</td>\n",
       "    </tr>\n",
       "    <tr>\n",
       "      <th>8</th>\n",
       "      <td>8</td>\n",
       "      <td>rafaelplmelo@gmail.com</td>\n",
       "      <td>Rafael Lacerda</td>\n",
       "      <td>NaN</td>\n",
       "    </tr>\n",
       "    <tr>\n",
       "      <th>9</th>\n",
       "      <td>9</td>\n",
       "      <td>rustygu@gmail.com</td>\n",
       "      <td>Zi (Russ) Gu</td>\n",
       "      <td>NaN</td>\n",
       "    </tr>\n",
       "    <tr>\n",
       "      <th>10</th>\n",
       "      <td>10</td>\n",
       "      <td>sven.chilton@gmail.com</td>\n",
       "      <td>Sven Chilton</td>\n",
       "      <td>NaN</td>\n",
       "    </tr>\n",
       "    <tr>\n",
       "      <th>11</th>\n",
       "      <td>11</td>\n",
       "      <td>tegan.mccaslin@gmail.com</td>\n",
       "      <td>Tegan McCaslin</td>\n",
       "      <td>NaN</td>\n",
       "    </tr>\n",
       "    <tr>\n",
       "      <th>12</th>\n",
       "      <td>12</td>\n",
       "      <td>mcnamerson@example.com</td>\n",
       "      <td>Namey McNamerson</td>\n",
       "      <td>555 555 5555</td>\n",
       "    </tr>\n",
       "  </tbody>\n",
       "</table>\n",
       "</div>"
      ],
      "text/plain": [
       "    __id                         email                     name         phone\n",
       "0      0        aysjajohnson@gmail.com            Aysja Johnson           NaN\n",
       "1      1          gebsanchez@gmail.com  Gabriel Augusto Sanchez           NaN\n",
       "2      2              ivan@emailio.com            Ivan Dimitrov           NaN\n",
       "3      3                jy1003@nyu.edu                 Jimin Yu           NaN\n",
       "4      4            kleung92@gmail.com              Karen Leung           NaN\n",
       "5      5        kurtbrown137@gmail.com               Kurt Brown           NaN\n",
       "6      6        bartholomatt@gmail.com         Matt Bartholomew           NaN\n",
       "7      7  nathan.helm.burger@gmail.com       Nathan Helm Burger           NaN\n",
       "8      8        rafaelplmelo@gmail.com           Rafael Lacerda           NaN\n",
       "9      9             rustygu@gmail.com             Zi (Russ) Gu           NaN\n",
       "10    10        sven.chilton@gmail.com             Sven Chilton           NaN\n",
       "11    11      tegan.mccaslin@gmail.com           Tegan McCaslin           NaN\n",
       "12    12        mcnamerson@example.com         Namey McNamerson  555 555 5555"
      ]
     },
     "execution_count": 11,
     "metadata": {},
     "output_type": "execute_result"
    }
   ],
   "source": [
    "# NoSQL\n",
    "nosql_students.store({'name':'Namey McNamerson',\n",
    "                      'email':'mcnamerson@example.com',\n",
    "                      'phone':'555 555 5555'})\n",
    "\n",
    "nosql_students_df = pd.DataFrame(nosql_students.all())\n",
    "nosql_students_df"
   ]
  },
  {
   "cell_type": "markdown",
   "metadata": {
    "nbpresent": {
     "id": "dcdf0982-257c-4846-8417-11d6e9a9002f"
    }
   },
   "source": [
    "NoSQL's flexibility is very apparent here. However, this must be used with care to avoid maintenance and analysis nightmares. Since there is no data validation at work here, phone numbers could be stored as either integers, text or many other things as we will see very soon.\n",
    "\n",
    "Unclean and unstructured data is extra work, and it is good practice to implement rules in your application to ensure the database conforms to the planned model."
   ]
  },
  {
   "cell_type": "markdown",
   "metadata": {
    "nbpresent": {
     "id": "25504619-b4e7-44a3-bc01-2b2147add8e2"
    }
   },
   "source": [
    "### Joins and Normalization\n",
    "\n",
    "At this point, we run into a minor issue when we consider adding student's subjects in a SQL database: Since each student can have many subjects (known as a One-to-Many relationship), how should we store this in the database?\n",
    "\n",
    "If we keep everything in the same table, we would have several rows for each student. This means:\n",
    "\n",
    "- The ID column would no longer relate to students but for each subject\n",
    "- We would have repeated information in several rows, which would unnecessarily increase database size\n",
    "- Whenever we queried the database for a student's email, we would get several rows back, which creates inefficiencies for bandwidth and processing time:"
   ]
  },
  {
   "cell_type": "code",
   "execution_count": 12,
   "metadata": {
    "collapsed": false,
    "nbpresent": {
     "id": "ee506e6a-c1ec-478e-8b02-65b38a399401"
    }
   },
   "outputs": [
    {
     "data": {
      "text/html": [
       "<div>\n",
       "<table border=\"1\" class=\"dataframe\">\n",
       "  <thead>\n",
       "    <tr style=\"text-align: right;\">\n",
       "      <th></th>\n",
       "      <th>id</th>\n",
       "      <th>name</th>\n",
       "      <th>email</th>\n",
       "      <th>subject</th>\n",
       "    </tr>\n",
       "  </thead>\n",
       "  <tbody>\n",
       "    <tr>\n",
       "      <th>13</th>\n",
       "      <td>10</td>\n",
       "      <td>Zi (Russ) Gu</td>\n",
       "      <td>rustygu@gmail.com</td>\n",
       "      <td>Multiple hypothesis testing</td>\n",
       "    </tr>\n",
       "    <tr>\n",
       "      <th>14</th>\n",
       "      <td>10</td>\n",
       "      <td>Zi (Russ) Gu</td>\n",
       "      <td>rustygu@gmail.com</td>\n",
       "      <td>Bonferroni correction</td>\n",
       "    </tr>\n",
       "    <tr>\n",
       "      <th>15</th>\n",
       "      <td>10</td>\n",
       "      <td>Zi (Russ) Gu</td>\n",
       "      <td>rustygu@gmail.com</td>\n",
       "      <td>A/B testing</td>\n",
       "    </tr>\n",
       "    <tr>\n",
       "      <th>16</th>\n",
       "      <td>10</td>\n",
       "      <td>Zi (Russ) Gu</td>\n",
       "      <td>rustygu@gmail.com</td>\n",
       "      <td>Multi-armed bandit</td>\n",
       "    </tr>\n",
       "  </tbody>\n",
       "</table>\n",
       "</div>"
      ],
      "text/plain": [
       "    id          name              email                      subject\n",
       "13  10  Zi (Russ) Gu  rustygu@gmail.com  Multiple hypothesis testing\n",
       "14  10  Zi (Russ) Gu  rustygu@gmail.com        Bonferroni correction\n",
       "15  10  Zi (Russ) Gu  rustygu@gmail.com                  A/B testing\n",
       "16  10  Zi (Russ) Gu  rustygu@gmail.com           Multi-armed bandit"
      ]
     },
     "execution_count": 12,
     "metadata": {},
     "output_type": "execute_result"
    }
   ],
   "source": [
    "data = [[(pair[0]+1, pair[1], pair[2],p) for p in pair[3]] for pair in zip(range(12), students, contacts, subjects)]\n",
    "lst = list()\n",
    "[lst.extend(d) for d in data]\n",
    "df = pd.DataFrame(lst, columns=[\"id\", \"name\", \"email\", \"subject\"])\n",
    "df[df.id == 10]"
   ]
  },
  {
   "cell_type": "markdown",
   "metadata": {
    "collapsed": true,
    "nbpresent": {
     "id": "b0eefa22-c760-4c02-998d-0d993b368e84"
    }
   },
   "source": [
    "Instead, we must turn to the concept of Normalization or reduction to Canonical Form: \"The process of organizing the columns (attributes) and tables (relations) of a relational database to minimize data redundancy.\"<sup>1</sup>\n",
    "\n",
    "Simply, we must store the Subject data in a separate table and create a relationship column to associate the subject to its student. Associating data between tables is done by creating a second ID column that has values that point to the other table's Primary Key and defining the column as a Foreign Key, to allow for SQL-side validation:\n",
    "\n",
    "<sub>Source: Wikipedia, https://en.wikipedia.org/wiki/Database_normalization</sub>"
   ]
  },
  {
   "cell_type": "code",
   "execution_count": 13,
   "metadata": {
    "collapsed": false,
    "nbpresent": {
     "id": "25429e22-324d-48c7-950b-9ab99de992b1"
    }
   },
   "outputs": [
    {
     "data": {
      "text/plain": [
       "<sqlite3.Cursor at 0x111c0cf80>"
      ]
     },
     "execution_count": 13,
     "metadata": {},
     "output_type": "execute_result"
    }
   ],
   "source": [
    "cursor.execute(\"\"\"\n",
    "                CREATE TABLE subjects(\n",
    "                id INTEGER PRIMARY KEY,\n",
    "                subject TEXT,\n",
    "                student_id INT,\n",
    "                FOREIGN KEY(student_id) REFERENCES students(id)\n",
    "                );\n",
    "                \"\"\")"
   ]
  },
  {
   "cell_type": "code",
   "execution_count": 14,
   "metadata": {
    "collapsed": false,
    "nbpresent": {
     "id": "a2f8e789-efde-48b9-b28b-9dda2b71ed9d"
    }
   },
   "outputs": [
    {
     "data": {
      "text/html": [
       "<div>\n",
       "<table border=\"1\" class=\"dataframe\">\n",
       "  <thead>\n",
       "    <tr style=\"text-align: right;\">\n",
       "      <th></th>\n",
       "      <th>name</th>\n",
       "      <th>email</th>\n",
       "      <th>subject</th>\n",
       "    </tr>\n",
       "  </thead>\n",
       "  <tbody>\n",
       "    <tr>\n",
       "      <th>0</th>\n",
       "      <td>Aysja Johnson</td>\n",
       "      <td>aysjajohnson@gmail.com</td>\n",
       "      <td>Semi-supervised learning</td>\n",
       "    </tr>\n",
       "    <tr>\n",
       "      <th>1</th>\n",
       "      <td>Gabriel Augusto Sanchez</td>\n",
       "      <td>gebsanchez@gmail.com</td>\n",
       "      <td>Time series analysis</td>\n",
       "    </tr>\n",
       "    <tr>\n",
       "      <th>2</th>\n",
       "      <td>Ivan Dimitrov</td>\n",
       "      <td>ivan@emailio.com</td>\n",
       "      <td>Network analysis</td>\n",
       "    </tr>\n",
       "    <tr>\n",
       "      <th>3</th>\n",
       "      <td>Ivan Dimitrov</td>\n",
       "      <td>ivan@emailio.com</td>\n",
       "      <td>Social networks</td>\n",
       "    </tr>\n",
       "    <tr>\n",
       "      <th>4</th>\n",
       "      <td>Jimin Yu</td>\n",
       "      <td>jy1003@nyu.edu</td>\n",
       "      <td>Association rules</td>\n",
       "    </tr>\n",
       "    <tr>\n",
       "      <th>5</th>\n",
       "      <td>Karen Leung</td>\n",
       "      <td>kleung92@gmail.com</td>\n",
       "      <td>Shiny</td>\n",
       "    </tr>\n",
       "    <tr>\n",
       "      <th>6</th>\n",
       "      <td>Kurt Brown</td>\n",
       "      <td>kurtbrown137@gmail.com</td>\n",
       "      <td>Bayesian methods</td>\n",
       "    </tr>\n",
       "    <tr>\n",
       "      <th>7</th>\n",
       "      <td>Kurt Brown</td>\n",
       "      <td>kurtbrown137@gmail.com</td>\n",
       "      <td>Hierarchical methods</td>\n",
       "    </tr>\n",
       "    <tr>\n",
       "      <th>8</th>\n",
       "      <td>Kurt Brown</td>\n",
       "      <td>kurtbrown137@gmail.com</td>\n",
       "      <td>Multi-level modeling</td>\n",
       "    </tr>\n",
       "    <tr>\n",
       "      <th>9</th>\n",
       "      <td>Matt Bartholomew</td>\n",
       "      <td>bartholomatt@gmail.com</td>\n",
       "      <td>Apache Spark</td>\n",
       "    </tr>\n",
       "    <tr>\n",
       "      <th>10</th>\n",
       "      <td>Nathan Helm Burger</td>\n",
       "      <td>nathan.helm.burger@gmail.com</td>\n",
       "      <td>Apache Hadoop</td>\n",
       "    </tr>\n",
       "    <tr>\n",
       "      <th>11</th>\n",
       "      <td>Nathan Helm Burger</td>\n",
       "      <td>nathan.helm.burger@gmail.com</td>\n",
       "      <td>MapReduce</td>\n",
       "    </tr>\n",
       "    <tr>\n",
       "      <th>12</th>\n",
       "      <td>Rafael Lacerda</td>\n",
       "      <td>rafaelplmelo@gmail.com</td>\n",
       "      <td>SQL vs. NoSQL</td>\n",
       "    </tr>\n",
       "    <tr>\n",
       "      <th>13</th>\n",
       "      <td>Zi (Russ) Gu</td>\n",
       "      <td>rustygu@gmail.com</td>\n",
       "      <td>A/B testing</td>\n",
       "    </tr>\n",
       "    <tr>\n",
       "      <th>14</th>\n",
       "      <td>Zi (Russ) Gu</td>\n",
       "      <td>rustygu@gmail.com</td>\n",
       "      <td>Bonferroni correction</td>\n",
       "    </tr>\n",
       "    <tr>\n",
       "      <th>15</th>\n",
       "      <td>Zi (Russ) Gu</td>\n",
       "      <td>rustygu@gmail.com</td>\n",
       "      <td>Multi-armed bandit</td>\n",
       "    </tr>\n",
       "    <tr>\n",
       "      <th>16</th>\n",
       "      <td>Zi (Russ) Gu</td>\n",
       "      <td>rustygu@gmail.com</td>\n",
       "      <td>Multiple hypothesis testing</td>\n",
       "    </tr>\n",
       "    <tr>\n",
       "      <th>17</th>\n",
       "      <td>Sven Chilton</td>\n",
       "      <td>sven.chilton@gmail.com</td>\n",
       "      <td>Support vector machines</td>\n",
       "    </tr>\n",
       "    <tr>\n",
       "      <th>18</th>\n",
       "      <td>Tegan McCaslin</td>\n",
       "      <td>tegan.mccaslin@gmail.com</td>\n",
       "      <td>Hidden Markov models</td>\n",
       "    </tr>\n",
       "    <tr>\n",
       "      <th>19</th>\n",
       "      <td>Tegan McCaslin</td>\n",
       "      <td>tegan.mccaslin@gmail.com</td>\n",
       "      <td>Markov models</td>\n",
       "    </tr>\n",
       "    <tr>\n",
       "      <th>20</th>\n",
       "      <td>Namey McNamerson</td>\n",
       "      <td>mcnamerson@example.com</td>\n",
       "      <td>None</td>\n",
       "    </tr>\n",
       "  </tbody>\n",
       "</table>\n",
       "</div>"
      ],
      "text/plain": [
       "                       name                         email  \\\n",
       "0             Aysja Johnson        aysjajohnson@gmail.com   \n",
       "1   Gabriel Augusto Sanchez          gebsanchez@gmail.com   \n",
       "2             Ivan Dimitrov              ivan@emailio.com   \n",
       "3             Ivan Dimitrov              ivan@emailio.com   \n",
       "4                  Jimin Yu                jy1003@nyu.edu   \n",
       "5               Karen Leung            kleung92@gmail.com   \n",
       "6                Kurt Brown        kurtbrown137@gmail.com   \n",
       "7                Kurt Brown        kurtbrown137@gmail.com   \n",
       "8                Kurt Brown        kurtbrown137@gmail.com   \n",
       "9          Matt Bartholomew        bartholomatt@gmail.com   \n",
       "10       Nathan Helm Burger  nathan.helm.burger@gmail.com   \n",
       "11       Nathan Helm Burger  nathan.helm.burger@gmail.com   \n",
       "12           Rafael Lacerda        rafaelplmelo@gmail.com   \n",
       "13             Zi (Russ) Gu             rustygu@gmail.com   \n",
       "14             Zi (Russ) Gu             rustygu@gmail.com   \n",
       "15             Zi (Russ) Gu             rustygu@gmail.com   \n",
       "16             Zi (Russ) Gu             rustygu@gmail.com   \n",
       "17             Sven Chilton        sven.chilton@gmail.com   \n",
       "18           Tegan McCaslin      tegan.mccaslin@gmail.com   \n",
       "19           Tegan McCaslin      tegan.mccaslin@gmail.com   \n",
       "20         Namey McNamerson        mcnamerson@example.com   \n",
       "\n",
       "                        subject  \n",
       "0      Semi-supervised learning  \n",
       "1          Time series analysis  \n",
       "2              Network analysis  \n",
       "3               Social networks  \n",
       "4             Association rules  \n",
       "5                         Shiny  \n",
       "6              Bayesian methods  \n",
       "7          Hierarchical methods  \n",
       "8          Multi-level modeling  \n",
       "9                  Apache Spark  \n",
       "10                Apache Hadoop  \n",
       "11                    MapReduce  \n",
       "12                SQL vs. NoSQL  \n",
       "13                  A/B testing  \n",
       "14        Bonferroni correction  \n",
       "15           Multi-armed bandit  \n",
       "16  Multiple hypothesis testing  \n",
       "17      Support vector machines  \n",
       "18         Hidden Markov models  \n",
       "19                Markov models  \n",
       "20                         None  "
      ]
     },
     "execution_count": 14,
     "metadata": {},
     "output_type": "execute_result"
    }
   ],
   "source": [
    "# Build our student foreign key numbers\n",
    "from functools import reduce\n",
    "rep = [len(d) for d in data]\n",
    "student_ids = [i+1 for i in range(13)]\n",
    "student_ids = [[i[0]]*i[1] for i in zip(student_ids, rep)]\n",
    "\n",
    "# Flatten students\n",
    "student_ids = reduce(lambda x,y: x+y, student_ids)\n",
    "# Flatten subjects\n",
    "subjects_flat = reduce(lambda x,y: x+y, subjects)\n",
    "\n",
    "\"\"\"\n",
    "Insert data to our table\n",
    "\"\"\"\n",
    "\n",
    "cursor.executemany(\"\"\"\n",
    "                INSERT INTO subjects(subject, student_id)\n",
    "                VALUES(?, ?);\n",
    "                \"\"\", zip(subjects_flat, student_ids))\n",
    "\n",
    "cursor.execute(\"\"\"\n",
    "                SELECT a.name, a.email, b.subject\n",
    "                FROM students AS a\n",
    "                LEFT JOIN subjects AS b\n",
    "                ON a.id == b.student_id\n",
    "                ;\n",
    "                \"\"\")\n",
    "\n",
    "sql_subjects = cursor.fetchall()\n",
    "sql_subjects_df = pd.DataFrame(data=sql_subjects, columns=[i[0] for i in cursor.description])\n",
    "sql_subjects_df"
   ]
  },
  {
   "cell_type": "markdown",
   "metadata": {
    "nbpresent": {
     "id": "a2eae14b-7cfd-4d86-adeb-58682afb55e3"
    }
   },
   "source": [
    "So we can get to the same information if we wish, without storing redundant data.\n",
    "\n",
    "NoSQL has different tradeoffs: We could choose to move the data to another entity named 'subjects' like we did in SQL, or, to take advantage of JSON collections, we can store extra data for each student without redundancy!\n",
    "\n",
    "Because of the one-to-many relationship between students and subjects, it's more natural to structure this as a dictionary structure, which is equivalent to the JSON format that NoSQL uses:"
   ]
  },
  {
   "cell_type": "code",
   "execution_count": 15,
   "metadata": {
    "collapsed": false,
    "nbpresent": {
     "id": "01e0b816-d0d7-453a-b6e3-62030f88e693"
    }
   },
   "outputs": [
    {
     "data": {
      "text/plain": [
       "{'Aysja Johnson': ['Semi-supervised learning'],\n",
       " 'Gabriel Augusto Sanchez': ['Time series analysis'],\n",
       " 'Ivan Dimitrov': ['Network analysis', 'Social networks'],\n",
       " 'Jimin Yu': ['Association rules'],\n",
       " 'Karen Leung': ['Shiny'],\n",
       " 'Kurt Brown': ['Bayesian methods',\n",
       "  'Multi-level modeling',\n",
       "  'Hierarchical methods'],\n",
       " 'Matt Bartholomew': ['Apache Spark'],\n",
       " 'Nathan Helm Burger': ['MapReduce', 'Apache Hadoop'],\n",
       " 'Rafael Lacerda': ['SQL vs. NoSQL'],\n",
       " 'Sven Chilton': ['Support vector machines'],\n",
       " 'Tegan McCaslin': ['Markov models', 'Hidden Markov models'],\n",
       " 'Zi (Russ) Gu': ['Multiple hypothesis testing',\n",
       "  'Bonferroni correction',\n",
       "  'A/B testing',\n",
       "  'Multi-armed bandit']}"
      ]
     },
     "execution_count": 15,
     "metadata": {},
     "output_type": "execute_result"
    }
   ],
   "source": [
    "student_subjects = dict(zip(students, subjects))\n",
    "student_subjects"
   ]
  },
  {
   "cell_type": "markdown",
   "metadata": {
    "nbpresent": {
     "id": "a0a1b3fe-b1a5-449c-bbca-5726603fb06e"
    }
   },
   "source": [
    "To add information about subjects to our NoSQL students entity, we must iterate through each one individually and add the new data:"
   ]
  },
  {
   "cell_type": "code",
   "execution_count": 16,
   "metadata": {
    "collapsed": false,
    "nbpresent": {
     "id": "f81a7aa6-e618-4b00-8005-9100779d1649"
    }
   },
   "outputs": [],
   "source": [
    "for row in nosql_students.all():\n",
    "    # We cannot update the UnQLite dictionary directly:\n",
    "    row_dict = row.copy() \n",
    "    name = row_dict['name']\n",
    "    # We need to check if a certain student is not on\n",
    "    # the subjects list to avoid a dictionary error.\n",
    "    if name in student_subjects.keys():\n",
    "        subjects_list = student_subjects[name]\n",
    "        subjects_dict = {'subjects':subjects_list}\n",
    "        row_dict.update(subjects_dict)\n",
    "        nosql_students.update(\n",
    "            row['__id'],\n",
    "            row_dict\n",
    "        )"
   ]
  },
  {
   "cell_type": "markdown",
   "metadata": {
    "nbpresent": {
     "id": "bb624103-fd13-42ff-9944-16560fcddc69"
    }
   },
   "source": [
    "Notice from the element below how data is stored in the database, in a very similar format to a JSON node or Python dictionary - which incidentally is that structure that Python NoSQL APIs use to represent elements.\n",
    "Contrasting against SQL, instead of rows NoSQL has documents, which can be tree-like structures."
   ]
  },
  {
   "cell_type": "code",
   "execution_count": 17,
   "metadata": {
    "collapsed": false,
    "nbpresent": {
     "id": "4feb9bce-bc91-4aec-a9c9-0f7fc45179dd"
    }
   },
   "outputs": [
    {
     "data": {
      "text/plain": [
       "{'__id': 2,\n",
       " 'email': 'ivan@emailio.com',\n",
       " 'name': 'Ivan Dimitrov',\n",
       " 'subjects': ['Network analysis', 'Social networks']}"
      ]
     },
     "execution_count": 17,
     "metadata": {},
     "output_type": "execute_result"
    }
   ],
   "source": [
    "# Take a look at how NoSQL structures this data:\n",
    "nosql_students.fetch(2)"
   ]
  },
  {
   "cell_type": "markdown",
   "metadata": {
    "nbpresent": {
     "id": "078b3117-3ba2-461a-bd68-515f9a481d3f"
    }
   },
   "source": [
    "Even though our data has a tree-like structure, the Pandas DataFrame object below still manages to represent multiple items within a single cell. Also note that while the dataframe shows NaNs for values that weren't specified, these NaN's aren't actually stored in the database, as we can see from the output of <code>all()</code>."
   ]
  },
  {
   "cell_type": "code",
   "execution_count": 18,
   "metadata": {
    "collapsed": false,
    "nbpresent": {
     "id": "867b83e3-2908-4a38-9c16-0087cba08c4e"
    }
   },
   "outputs": [
    {
     "data": {
      "text/html": [
       "<div>\n",
       "<table border=\"1\" class=\"dataframe\">\n",
       "  <thead>\n",
       "    <tr style=\"text-align: right;\">\n",
       "      <th></th>\n",
       "      <th>__id</th>\n",
       "      <th>email</th>\n",
       "      <th>name</th>\n",
       "      <th>phone</th>\n",
       "      <th>subjects</th>\n",
       "    </tr>\n",
       "  </thead>\n",
       "  <tbody>\n",
       "    <tr>\n",
       "      <th>0</th>\n",
       "      <td>0</td>\n",
       "      <td>aysjajohnson@gmail.com</td>\n",
       "      <td>Aysja Johnson</td>\n",
       "      <td>NaN</td>\n",
       "      <td>[Semi-supervised learning]</td>\n",
       "    </tr>\n",
       "    <tr>\n",
       "      <th>1</th>\n",
       "      <td>1</td>\n",
       "      <td>gebsanchez@gmail.com</td>\n",
       "      <td>Gabriel Augusto Sanchez</td>\n",
       "      <td>NaN</td>\n",
       "      <td>[Time series analysis]</td>\n",
       "    </tr>\n",
       "    <tr>\n",
       "      <th>2</th>\n",
       "      <td>2</td>\n",
       "      <td>ivan@emailio.com</td>\n",
       "      <td>Ivan Dimitrov</td>\n",
       "      <td>NaN</td>\n",
       "      <td>[Network analysis, Social networks]</td>\n",
       "    </tr>\n",
       "    <tr>\n",
       "      <th>3</th>\n",
       "      <td>3</td>\n",
       "      <td>jy1003@nyu.edu</td>\n",
       "      <td>Jimin Yu</td>\n",
       "      <td>NaN</td>\n",
       "      <td>[Association rules]</td>\n",
       "    </tr>\n",
       "    <tr>\n",
       "      <th>4</th>\n",
       "      <td>4</td>\n",
       "      <td>kleung92@gmail.com</td>\n",
       "      <td>Karen Leung</td>\n",
       "      <td>NaN</td>\n",
       "      <td>[Shiny]</td>\n",
       "    </tr>\n",
       "    <tr>\n",
       "      <th>5</th>\n",
       "      <td>5</td>\n",
       "      <td>kurtbrown137@gmail.com</td>\n",
       "      <td>Kurt Brown</td>\n",
       "      <td>NaN</td>\n",
       "      <td>[Bayesian methods, Multi-level modeling, Hiera...</td>\n",
       "    </tr>\n",
       "    <tr>\n",
       "      <th>6</th>\n",
       "      <td>6</td>\n",
       "      <td>bartholomatt@gmail.com</td>\n",
       "      <td>Matt Bartholomew</td>\n",
       "      <td>NaN</td>\n",
       "      <td>[Apache Spark]</td>\n",
       "    </tr>\n",
       "    <tr>\n",
       "      <th>7</th>\n",
       "      <td>7</td>\n",
       "      <td>nathan.helm.burger@gmail.com</td>\n",
       "      <td>Nathan Helm Burger</td>\n",
       "      <td>NaN</td>\n",
       "      <td>[MapReduce, Apache Hadoop]</td>\n",
       "    </tr>\n",
       "    <tr>\n",
       "      <th>8</th>\n",
       "      <td>8</td>\n",
       "      <td>rafaelplmelo@gmail.com</td>\n",
       "      <td>Rafael Lacerda</td>\n",
       "      <td>NaN</td>\n",
       "      <td>[SQL vs. NoSQL]</td>\n",
       "    </tr>\n",
       "    <tr>\n",
       "      <th>9</th>\n",
       "      <td>9</td>\n",
       "      <td>rustygu@gmail.com</td>\n",
       "      <td>Zi (Russ) Gu</td>\n",
       "      <td>NaN</td>\n",
       "      <td>[Multiple hypothesis testing, Bonferroni corre...</td>\n",
       "    </tr>\n",
       "    <tr>\n",
       "      <th>10</th>\n",
       "      <td>10</td>\n",
       "      <td>sven.chilton@gmail.com</td>\n",
       "      <td>Sven Chilton</td>\n",
       "      <td>NaN</td>\n",
       "      <td>[Support vector machines]</td>\n",
       "    </tr>\n",
       "    <tr>\n",
       "      <th>11</th>\n",
       "      <td>11</td>\n",
       "      <td>tegan.mccaslin@gmail.com</td>\n",
       "      <td>Tegan McCaslin</td>\n",
       "      <td>NaN</td>\n",
       "      <td>[Markov models, Hidden Markov models]</td>\n",
       "    </tr>\n",
       "    <tr>\n",
       "      <th>12</th>\n",
       "      <td>12</td>\n",
       "      <td>mcnamerson@example.com</td>\n",
       "      <td>Namey McNamerson</td>\n",
       "      <td>555 555 5555</td>\n",
       "      <td>NaN</td>\n",
       "    </tr>\n",
       "  </tbody>\n",
       "</table>\n",
       "</div>"
      ],
      "text/plain": [
       "    __id                         email                     name         phone  \\\n",
       "0      0        aysjajohnson@gmail.com            Aysja Johnson           NaN   \n",
       "1      1          gebsanchez@gmail.com  Gabriel Augusto Sanchez           NaN   \n",
       "2      2              ivan@emailio.com            Ivan Dimitrov           NaN   \n",
       "3      3                jy1003@nyu.edu                 Jimin Yu           NaN   \n",
       "4      4            kleung92@gmail.com              Karen Leung           NaN   \n",
       "5      5        kurtbrown137@gmail.com               Kurt Brown           NaN   \n",
       "6      6        bartholomatt@gmail.com         Matt Bartholomew           NaN   \n",
       "7      7  nathan.helm.burger@gmail.com       Nathan Helm Burger           NaN   \n",
       "8      8        rafaelplmelo@gmail.com           Rafael Lacerda           NaN   \n",
       "9      9             rustygu@gmail.com             Zi (Russ) Gu           NaN   \n",
       "10    10        sven.chilton@gmail.com             Sven Chilton           NaN   \n",
       "11    11      tegan.mccaslin@gmail.com           Tegan McCaslin           NaN   \n",
       "12    12        mcnamerson@example.com         Namey McNamerson  555 555 5555   \n",
       "\n",
       "                                             subjects  \n",
       "0                          [Semi-supervised learning]  \n",
       "1                              [Time series analysis]  \n",
       "2                 [Network analysis, Social networks]  \n",
       "3                                 [Association rules]  \n",
       "4                                             [Shiny]  \n",
       "5   [Bayesian methods, Multi-level modeling, Hiera...  \n",
       "6                                      [Apache Spark]  \n",
       "7                          [MapReduce, Apache Hadoop]  \n",
       "8                                     [SQL vs. NoSQL]  \n",
       "9   [Multiple hypothesis testing, Bonferroni corre...  \n",
       "10                          [Support vector machines]  \n",
       "11              [Markov models, Hidden Markov models]  \n",
       "12                                                NaN  "
      ]
     },
     "execution_count": 18,
     "metadata": {},
     "output_type": "execute_result"
    }
   ],
   "source": [
    "# Also look at how this is represented in a Pandas dataframe:\n",
    "pd.DataFrame(nosql_students.all())"
   ]
  },
  {
   "cell_type": "markdown",
   "metadata": {
    "nbpresent": {
     "id": "0193bd3e-d0b6-41a9-9fdc-ffb681a32146"
    }
   },
   "source": [
    "It's quite clear that NoSQL deals with unstructured data in a more flexible and efficient way than MySQL.\n",
    "\n",
    "Using this approach, we can keep all the data in a single entity. The advantage of this approach is that the data can be used as needed without having to specify Joins when creating queries.\n",
    "\n",
    "Even though we managed to save space while avoiding normalization, there still is a strong argument to support it:\n",
    "In our application, we must consider how often we need to query only for subjects versus how often we need to query only for contact information, separately: If every time we query for contact info we also receive a list of subjects, this is becomes a source for bandwidth inefficiency! There are no fixed rules for this and the \"distance\" between data needs to be considered when normalizing databases."
   ]
  },
  {
   "cell_type": "markdown",
   "metadata": {
    "nbpresent": {
     "id": "1e09fa82-a915-44a1-b977-af04c680e5d5"
    }
   },
   "source": [
    "### Transactions and data integrity\n",
    "\n",
    "Suppose that while we were updating the unnormalized NoSQL student's object to add subjects, we forgot to check if the student existed in the subjects list:"
   ]
  },
  {
   "cell_type": "raw",
   "metadata": {
    "nbpresent": {
     "id": "01affea6-eb77-46ac-876a-e9dff9770863"
    }
   },
   "source": [
    "for row in nosql_students.all():\n",
    "    # We cannot update the UnQLite dictionary directly:\n",
    "    row_dict = row.copy() \n",
    "    name = row_dict['name']\n",
    "    # Don't check if the student exists in the list this time:\n",
    "    # if name in student_subjects.keys():\n",
    "    subjects_list = student_subjects[name] ### Error! ###\n",
    "    subjects_dict = {'subjects':subjects_list}\n",
    "    row_dict.update(subjects_dict)\n",
    "    nosql_students.update(\n",
    "        row['__id'],\n",
    "        row_dict\n",
    "    )"
   ]
  },
  {
   "cell_type": "markdown",
   "metadata": {
    "nbpresent": {
     "id": "1967b1f6-96e0-4e6e-b490-a013914f9fb0"
    }
   },
   "source": [
    "We would get an error when the student wasn't found, part of the data would be updated and the other part wouldn't, leaving us with a data integrity issue to solve!\n",
    "\n",
    "This however, would not happen in SQL, especially if using *transactions*.\n",
    "\n",
    "SQL's transactions conform to a standard known by the acronym ACID:\n",
    "\n",
    "- **Atomicity**: Either all parts of a transaction must be completed or none.\n",
    "- **Consistency**: The integrity of the database is preserved by all transactions. The database is not left in an invalid state after a transaction.\n",
    "- **Isolation**: A transaction must be run isolated in order to guarantee that any inconsistency in the data involved does not affect other transactions.\n",
    "- **Durability**: The changes made by a completed transaction must be preserved or inother words be durable.\n",
    "\n",
    "<sub>SOURCE: 2013, HADJIGEORGIOU, C. in \"RDBMS vs NoSQL: Performance and Scaling Comparison\" p. 4, available at https://static.ph.ed.ac.uk/dissertations/hpc-msc/2012-2013/RDBMS%20vs%20NoSQL%20-%20Performance%20and%20Scaling%20Comparison.pdf </sub>\n",
    "\n",
    "In a first degree, SQL only inserts, deletes or updates data in a table if all row operations are successful. In a second degree, if using transactions, SQL may receive several commands, altering several tables and will only save the changes if all operations are successful and we call the <code>commit()</code> function. If any errors are made, a <code>rollback()</code> call will restore the database state back to the start of our transaction.\n",
    "\n",
    "To trigger an error, let's attempt to create a subject for a student that doesn't exist - that is, a subject with an invalid Foreign Key: "
   ]
  },
  {
   "cell_type": "code",
   "execution_count": 19,
   "metadata": {
    "collapsed": false,
    "nbpresent": {
     "id": "d05440f3-9f45-42bc-bd48-c4601d6a363d"
    },
    "scrolled": true
   },
   "outputs": [
    {
     "name": "stdout",
     "output_type": "stream",
     "text": [
      "FOREIGN KEY constraint failed\n"
     ]
    }
   ],
   "source": [
    "# With SQLite, transactions (including initializing one,\n",
    "# commiting or rolling back) are implicit. We only need\n",
    "# to use the \"with\" structure with the connection object.\n",
    "\n",
    "with connection as conn:\n",
    "    cursor = conn.cursor()\n",
    "    try:\n",
    "        cursor.execute(\"\"\" \n",
    "                        INSERT INTO subjects(subject, student_id)\n",
    "                        VALUES('Flux Capacitor Learning', 34); \n",
    "                        \"\"\")\n",
    "    except sql.IntegrityError as err:\n",
    "        print(err) # This way we can actually see what went wrong."
   ]
  },
  {
   "cell_type": "markdown",
   "metadata": {
    "nbpresent": {
     "id": "09573813-a6ad-47d8-95c2-112c2b42b70d"
    }
   },
   "source": [
    "As expected, SQL denies the entire operation because we set a constraint that a subject must be attached to a student that actually exists.\n",
    "By querying the subjects table, we can verify that nothing has changed, preserving the integrity of our database:"
   ]
  },
  {
   "cell_type": "code",
   "execution_count": 20,
   "metadata": {
    "collapsed": false,
    "nbpresent": {
     "id": "518a8819-eefc-42f9-be5e-e3e0acf0a13d"
    }
   },
   "outputs": [
    {
     "data": {
      "text/html": [
       "<div>\n",
       "<table border=\"1\" class=\"dataframe\">\n",
       "  <thead>\n",
       "    <tr style=\"text-align: right;\">\n",
       "      <th></th>\n",
       "      <th>name</th>\n",
       "      <th>email</th>\n",
       "      <th>subject</th>\n",
       "    </tr>\n",
       "  </thead>\n",
       "  <tbody>\n",
       "    <tr>\n",
       "      <th>0</th>\n",
       "      <td>Aysja Johnson</td>\n",
       "      <td>aysjajohnson@gmail.com</td>\n",
       "      <td>Semi-supervised learning</td>\n",
       "    </tr>\n",
       "    <tr>\n",
       "      <th>1</th>\n",
       "      <td>Gabriel Augusto Sanchez</td>\n",
       "      <td>gebsanchez@gmail.com</td>\n",
       "      <td>Time series analysis</td>\n",
       "    </tr>\n",
       "    <tr>\n",
       "      <th>2</th>\n",
       "      <td>Ivan Dimitrov</td>\n",
       "      <td>ivan@emailio.com</td>\n",
       "      <td>Network analysis</td>\n",
       "    </tr>\n",
       "    <tr>\n",
       "      <th>3</th>\n",
       "      <td>Ivan Dimitrov</td>\n",
       "      <td>ivan@emailio.com</td>\n",
       "      <td>Social networks</td>\n",
       "    </tr>\n",
       "    <tr>\n",
       "      <th>4</th>\n",
       "      <td>Jimin Yu</td>\n",
       "      <td>jy1003@nyu.edu</td>\n",
       "      <td>Association rules</td>\n",
       "    </tr>\n",
       "    <tr>\n",
       "      <th>5</th>\n",
       "      <td>Karen Leung</td>\n",
       "      <td>kleung92@gmail.com</td>\n",
       "      <td>Shiny</td>\n",
       "    </tr>\n",
       "    <tr>\n",
       "      <th>6</th>\n",
       "      <td>Kurt Brown</td>\n",
       "      <td>kurtbrown137@gmail.com</td>\n",
       "      <td>Bayesian methods</td>\n",
       "    </tr>\n",
       "    <tr>\n",
       "      <th>7</th>\n",
       "      <td>Kurt Brown</td>\n",
       "      <td>kurtbrown137@gmail.com</td>\n",
       "      <td>Hierarchical methods</td>\n",
       "    </tr>\n",
       "    <tr>\n",
       "      <th>8</th>\n",
       "      <td>Kurt Brown</td>\n",
       "      <td>kurtbrown137@gmail.com</td>\n",
       "      <td>Multi-level modeling</td>\n",
       "    </tr>\n",
       "    <tr>\n",
       "      <th>9</th>\n",
       "      <td>Matt Bartholomew</td>\n",
       "      <td>bartholomatt@gmail.com</td>\n",
       "      <td>Apache Spark</td>\n",
       "    </tr>\n",
       "    <tr>\n",
       "      <th>10</th>\n",
       "      <td>Nathan Helm Burger</td>\n",
       "      <td>nathan.helm.burger@gmail.com</td>\n",
       "      <td>Apache Hadoop</td>\n",
       "    </tr>\n",
       "    <tr>\n",
       "      <th>11</th>\n",
       "      <td>Nathan Helm Burger</td>\n",
       "      <td>nathan.helm.burger@gmail.com</td>\n",
       "      <td>MapReduce</td>\n",
       "    </tr>\n",
       "    <tr>\n",
       "      <th>12</th>\n",
       "      <td>Rafael Lacerda</td>\n",
       "      <td>rafaelplmelo@gmail.com</td>\n",
       "      <td>SQL vs. NoSQL</td>\n",
       "    </tr>\n",
       "    <tr>\n",
       "      <th>13</th>\n",
       "      <td>Zi (Russ) Gu</td>\n",
       "      <td>rustygu@gmail.com</td>\n",
       "      <td>A/B testing</td>\n",
       "    </tr>\n",
       "    <tr>\n",
       "      <th>14</th>\n",
       "      <td>Zi (Russ) Gu</td>\n",
       "      <td>rustygu@gmail.com</td>\n",
       "      <td>Bonferroni correction</td>\n",
       "    </tr>\n",
       "    <tr>\n",
       "      <th>15</th>\n",
       "      <td>Zi (Russ) Gu</td>\n",
       "      <td>rustygu@gmail.com</td>\n",
       "      <td>Multi-armed bandit</td>\n",
       "    </tr>\n",
       "    <tr>\n",
       "      <th>16</th>\n",
       "      <td>Zi (Russ) Gu</td>\n",
       "      <td>rustygu@gmail.com</td>\n",
       "      <td>Multiple hypothesis testing</td>\n",
       "    </tr>\n",
       "    <tr>\n",
       "      <th>17</th>\n",
       "      <td>Sven Chilton</td>\n",
       "      <td>sven.chilton@gmail.com</td>\n",
       "      <td>Support vector machines</td>\n",
       "    </tr>\n",
       "    <tr>\n",
       "      <th>18</th>\n",
       "      <td>Tegan McCaslin</td>\n",
       "      <td>tegan.mccaslin@gmail.com</td>\n",
       "      <td>Hidden Markov models</td>\n",
       "    </tr>\n",
       "    <tr>\n",
       "      <th>19</th>\n",
       "      <td>Tegan McCaslin</td>\n",
       "      <td>tegan.mccaslin@gmail.com</td>\n",
       "      <td>Markov models</td>\n",
       "    </tr>\n",
       "    <tr>\n",
       "      <th>20</th>\n",
       "      <td>Namey McNamerson</td>\n",
       "      <td>mcnamerson@example.com</td>\n",
       "      <td>None</td>\n",
       "    </tr>\n",
       "  </tbody>\n",
       "</table>\n",
       "</div>"
      ],
      "text/plain": [
       "                       name                         email  \\\n",
       "0             Aysja Johnson        aysjajohnson@gmail.com   \n",
       "1   Gabriel Augusto Sanchez          gebsanchez@gmail.com   \n",
       "2             Ivan Dimitrov              ivan@emailio.com   \n",
       "3             Ivan Dimitrov              ivan@emailio.com   \n",
       "4                  Jimin Yu                jy1003@nyu.edu   \n",
       "5               Karen Leung            kleung92@gmail.com   \n",
       "6                Kurt Brown        kurtbrown137@gmail.com   \n",
       "7                Kurt Brown        kurtbrown137@gmail.com   \n",
       "8                Kurt Brown        kurtbrown137@gmail.com   \n",
       "9          Matt Bartholomew        bartholomatt@gmail.com   \n",
       "10       Nathan Helm Burger  nathan.helm.burger@gmail.com   \n",
       "11       Nathan Helm Burger  nathan.helm.burger@gmail.com   \n",
       "12           Rafael Lacerda        rafaelplmelo@gmail.com   \n",
       "13             Zi (Russ) Gu             rustygu@gmail.com   \n",
       "14             Zi (Russ) Gu             rustygu@gmail.com   \n",
       "15             Zi (Russ) Gu             rustygu@gmail.com   \n",
       "16             Zi (Russ) Gu             rustygu@gmail.com   \n",
       "17             Sven Chilton        sven.chilton@gmail.com   \n",
       "18           Tegan McCaslin      tegan.mccaslin@gmail.com   \n",
       "19           Tegan McCaslin      tegan.mccaslin@gmail.com   \n",
       "20         Namey McNamerson        mcnamerson@example.com   \n",
       "\n",
       "                        subject  \n",
       "0      Semi-supervised learning  \n",
       "1          Time series analysis  \n",
       "2              Network analysis  \n",
       "3               Social networks  \n",
       "4             Association rules  \n",
       "5                         Shiny  \n",
       "6              Bayesian methods  \n",
       "7          Hierarchical methods  \n",
       "8          Multi-level modeling  \n",
       "9                  Apache Spark  \n",
       "10                Apache Hadoop  \n",
       "11                    MapReduce  \n",
       "12                SQL vs. NoSQL  \n",
       "13                  A/B testing  \n",
       "14        Bonferroni correction  \n",
       "15           Multi-armed bandit  \n",
       "16  Multiple hypothesis testing  \n",
       "17      Support vector machines  \n",
       "18         Hidden Markov models  \n",
       "19                Markov models  \n",
       "20                         None  "
      ]
     },
     "execution_count": 20,
     "metadata": {},
     "output_type": "execute_result"
    }
   ],
   "source": [
    "with connection as conn:\n",
    "    cursor = conn.cursor()\n",
    "    cursor.execute(\"\"\"\n",
    "                SELECT a.name, a.email, b.subject\n",
    "                FROM students AS a\n",
    "                LEFT JOIN subjects AS b\n",
    "                ON a.id == b.student_id\n",
    "                ;\n",
    "                \"\"\")\n",
    "\n",
    "sql_subjects = cursor.fetchall()\n",
    "sql_subjects_df = pd.DataFrame(\n",
    "    data=sql_subjects,\n",
    "    columns=[i[0] for i in cursor.description]\n",
    ")\n",
    "sql_subjects_df"
   ]
  },
  {
   "cell_type": "markdown",
   "metadata": {
    "nbpresent": {
     "id": "0aab337f-be1f-43f3-a4e6-6c1aa0771f6a"
    }
   },
   "source": [
    "On matter of data integrity it's clear that SQL has the advantage. While it is good practice to validate data within the application before feeding it into the database, NoSQL will require extra work in this aspect."
   ]
  },
  {
   "cell_type": "markdown",
   "metadata": {
    "nbpresent": {
     "id": "52d89119-bd31-47ef-9870-6632674e4d07"
    }
   },
   "source": [
    "### Use Cases\n",
    "\n",
    "With the differences between SQL and NoSQL in mind, we can conclude that the best choice is highly project dependent:\n",
    "\n",
    "- For projects where the data model is well defined, SQL's formal structure can stop you from making mistakes.\n",
    "- For an evolving data model, NoSQL's flexibility allows you to move fast.\n",
    "- If data integrity is essential, SQL's all-or-nothing transactions are a safety net.\n",
    "\n",
    "<sub>SOURCE: https://www.sitepoint.com/sql-vs-nosql-differences/</sub>\n",
    "\n",
    "\n",
    "Facebook is a prime example of a NoSQL application in the real world. In addition to social networks being a relatively young concept with many variables and no well defined models, there is a tendency to reinvent themselves as a user retention/attraction strategy, requiring a flexible database.\n",
    "\n",
    "Uber on the other hand has opted for a hybrid approach, using an SQL database in a non-standard way to support unstructured data. This can be a costly approach, as there will be little industry support for their special case, requiring an expertise that many companies cannot afford.\n",
    "\n",
    "<sub>SOURCE: http://www.techrepublic.com/article/when-nosql-may-not-be-right-for-you/</sub>\n",
    "\n",
    "It's not uncommon for distinct databases to coexist, especially in large companies where there are different, less connected systems at play. The application database may be separate from the accounting database, as well as the human resources database.\n",
    "\n",
    "When this happens, tools known as middleware come into play, as an attempt to synchronize these systems. This is also commonly error-prone, as maintaining sanity between databases presents notoriously difficult infrastructure issues."
   ]
  },
  {
   "cell_type": "markdown",
   "metadata": {
    "nbpresent": {
     "id": "43333ca8-5fc5-43a8-b381-523604962f07"
    }
   },
   "source": [
    "### Further exploration\n",
    "\n",
    "Scaling and performance are huge topics that may be of interest when designing a database.\n",
    "\n",
    "The main issue is how to expand size and availability: Is it best to upgrade processors and memory or to expand your database into separate machines? This is an advanced topic and there are distinct strategies for SQL and NoSQL which will not be covered here."
   ]
  },
  {
   "cell_type": "code",
   "execution_count": null,
   "metadata": {
    "collapsed": true,
    "nbpresent": {
     "id": "2ede8577-f435-4a2e-b66a-f016d4eb17b8"
    }
   },
   "outputs": [],
   "source": []
  }
 ],
 "metadata": {
  "anaconda-cloud": {},
  "kernelspec": {
   "display_name": "Python 3",
   "language": "python",
   "name": "python3"
  },
  "language_info": {
   "codemirror_mode": {
    "name": "ipython",
    "version": 3
   },
   "file_extension": ".py",
   "mimetype": "text/x-python",
   "name": "python",
   "nbconvert_exporter": "python",
   "pygments_lexer": "ipython3",
   "version": "3.4.5"
  }
 },
 "nbformat": 4,
 "nbformat_minor": 0
}
