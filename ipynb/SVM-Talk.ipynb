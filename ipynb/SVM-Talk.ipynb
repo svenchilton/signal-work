{
 "cells": [
  {
   "cell_type": "markdown",
   "metadata": {},
   "source": [
    "# Support Vector Machines\n",
    "\n",
    "### Sven Chilton\n",
    "\n",
    "### Signal Data Science Cohort 3"
   ]
  },
  {
   "cell_type": "markdown",
   "metadata": {},
   "source": [
    "## The Big Picture\n",
    "\n",
    "Support Vector Machines originated as classification schemes, though they can be used for regression.  One uses an inner product or an equivalent measure of similarity to draw a boundary between classes such that the margin (the distance between the boundary and the members of either class nearest to it) is maximized."
   ]
  },
  {
   "cell_type": "markdown",
   "metadata": {},
   "source": [
    "### Linearly Separable Data, Hyperplanes, and Dot Products\n",
    "\n",
    "<img src=\"images/512px-Svm_separating_hyperplanes_(SVG).svg.png\">\n",
    "(Image source: https://commons.wikimedia.org/wiki/File:Svm_separating_hyperplanes_(SVG).svg, used in https://en.wikipedia.org/wiki/Support_vector_machine)\n",
    "\n",
    "Consider a line in 2D space.  It can be represented as \n",
    "\\begin{equation}\n",
    "y = mx+b, \n",
    "\\end{equation}\n",
    "or more generally as \n",
    "\\begin{equation}\n",
    "w_1 x + w_2 y + b =  \\mathbf{w} \\cdot \\mathbf{x} + b = 0.\n",
    "\\end{equation}\n",
    "In the equation above, $w_1/w_2 = -m$, $\\mathbf{w}$ is a vector normal to the line, and $b$ is an offset.  In particular, $|b|/\\| \\mathbf{w} \\|$ is the minimum distance between the origin and the line.  \n",
    "\n",
    "The dot product form of the equation above is even more powerful than it might appear.  It can be used to define a hyperplane in an arbitrary number of spatial dimensions.  \n",
    "\n",
    "For the most part, we will be working in an *input space,* where each $\\mathbf{x}$ is an *observation* or row in a data set, each dimension of *x* corresponds to a *feature* or column in that data set, and each $y$ is $\\pm 1$, depending on whether the given point is a member of the target class.\n",
    "\n",
    "We predict the class of a given $\\mathbf{x}$ with the decision function will be a member of class 1 if $\\mathbf{w} \\cdot \\mathbf{x} + b \\geq 1$, and a member of class -1 if $\\mathbf{w} \\cdot \\mathbf{x} + b \\leq -1$. We express $\\mathbf{w}$ as a linear combination of each $\\mathbf{x}$ in our data set.  The *support vectors* are the data points on the margins, i.e. $\\mathbf{w} \\cdot \\mathbf{x} + b = \\pm 1$, which as we'll see later are the ones which affect our scheme's cost function.  The margin between the classes, therefore, has a width of $\\frac{2}{\\| \\mathbf{w} \\|}$.  "
   ]
  },
  {
   "cell_type": "markdown",
   "metadata": {},
   "source": [
    "### Finding the Optimal Hyperplane\n",
    "\n",
    "Our task is to find $\\mathbf{w}$, and thus draw a hyperplane separating our classes, from the support vectors such that the margin width is maximized (up to a cost function, which I will describe later).  To do so, we minimize $\\| \\mathbf{w} \\|$, or equivalently, \n",
    "\\begin{equation}\n",
    "\\tau (\\mathbf{w}) = \\frac{1}{2} \\| \\mathbf{w} \\|^2, \n",
    "\\end{equation}\n",
    "subject to the constraint \n",
    "\\begin{equation}\n",
    "y_i (\\mathbf{w} \\cdot \\mathbf{x}_i + b) \\geq 1, \\ i \\in [1,\\ell]\n",
    "\\end{equation}\n",
    "\n",
    "To account for the constraint, we introduce Lagrangian multipliers $\\alpha_i \\geq 0$ and the Lagrangian \n",
    "\\begin{equation}\n",
    "L (\\mathbf{w}, b, \\mathbf{\\alpha}) = \n",
    "  \\frac{1}{2} \\| \\mathbf{w} \\|^2 - \n",
    "  \\sum_{i=1}^\\ell \\alpha_i \\left( y_i ( \\mathbf{x}_i \\cdot \\mathbf{w} + b ) - 1 \\right).\n",
    "\\end{equation}\n",
    "From the signs of the terms, we see that we wish to maximize $L$ with respect to $\\mathbf{\\alpha}$.  By taking the appropriate derivative, we see that the only $i$ values (that is, the only vectors in our data set) with non-zero $\\alpha_i$ coefficients are those satisfying $y_i ( \\mathbf{x}_i \\cdot \\mathbf{w} + b ) - 1 = 0$.  In other words, the *support vectors,* those vectors on the margins, are the only ones which contribute to $\\mathbf{w}.$\n",
    "\n",
    "The optimum hyperplane is parametrized by the $\\mathbf{w}$ and $b$ which minimize $L$.  Minimizing with respect to $b$ yields \n",
    "\\begin{equation}\n",
    "\\sum_{i=1}^\\ell \\alpha_i y_i = 0, \n",
    "\\end{equation}\n",
    "while minimizing with respect to $\\mathbf{w}$ yields \n",
    "\\begin{equation}\n",
    "\\mathbf{w} = \\sum_{i=1}^\\ell \\alpha_i y_i \\mathbf{x}_i.\n",
    "\\end{equation}\n",
    "Substituting the previous two equations into the Lagrangian yields the so-called *Wolfe dual* of our optimization problem, \n",
    "\\begin{equation}\n",
    "W(\\mathbf{\\alpha}) = \n",
    "  \\sum_{i=1}^\\ell \\alpha_i - \n",
    "  \\frac{1}{2} \\sum_{i=1}^\\ell \\sum_{j=1}^\\ell \\alpha_i \\alpha_j y_i y_j \n",
    "    (\\mathbf{x}_i \\cdot \\mathbf{x}_j), \n",
    "\\end{equation}\n",
    "which we maximize, subject to $\\alpha_i \\geq 0$ and $\\sum_{i=1}^\\ell \\alpha_i y_i = 0.$\n",
    "\n",
    "Therefore, when the classes are linearly separable, we take the following steps to determine our optimum hyperplane: \n",
    "\n",
    "(1) Find the $\\alpha_i$ coefficients which maximize $W$ (typically with a coordinate descent method) \n",
    "\n",
    "(2) Express $x$ in terms of the support vectors\n",
    "\n",
    "(3) Determine $b$ from the support vector equation \n",
    "\n",
    "(4) Predict the class of each $\\mathbf{x}$ with the *decision function* \n",
    "\\begin{equation}\n",
    "f(\\mathbf{x}) = \n",
    "  \\textrm{sgn} \n",
    "  \\left( \\sum_{i=1}^\\ell \\alpha_i y_i (\\mathbf{x} \\cdot \\mathbf{x}_i) + b \n",
    "  \\right).\n",
    "\\end{equation}"
   ]
  },
  {
   "cell_type": "markdown",
   "metadata": {},
   "source": [
    "## Kernel Methods, i.e. what happens if the data is not linearly separable\n",
    "\n",
    "If the data is not linearly separable, we replace the dot product with a kernel $k(\\mathbf{w}, \\mathbf{x})$.  Many types of kernel exist, though the most common are the following: \n",
    "\n",
    "Linear (a.k.a. no kernel):\n",
    "\\begin{equation}\n",
    "k(\\mathbf{x}, \\mathbf{x}^\\prime) = \\mathbf{x} \\cdot \\mathbf{x}^\\prime\n",
    "\\end{equation}\n",
    "\n",
    "Homogeneous polynomial: \n",
    "\\begin{equation}\n",
    "k(\\mathbf{x}, \\mathbf{x}^\\prime) = ( \\mathbf{x} \\cdot \\mathbf{x}^\\prime )^d\n",
    "\\end{equation}\n",
    "\n",
    "Non-homogeneous polynomial: \n",
    "\\begin{equation}\n",
    "k(\\mathbf{x}, \\mathbf{x}^\\prime) = ( \\mathbf{x} \\cdot \\mathbf{x}^\\prime + c)^d\n",
    "\\end{equation}\n",
    "\n",
    "Gaussian RBF: \n",
    "\\begin{equation}\n",
    "k(\\mathbf{x}, \\mathbf{x}^\\prime) = \n",
    "  \\exp \\left( - \\frac{\\| \\mathbf{x} - \\mathbf{x}^\\prime \\|^2}{2 \\sigma^2} \\right) \n",
    "\\end{equation}\n",
    "Note: some implementations instead express this kernel as \n",
    "\\begin{equation}\n",
    "k(\\mathbf{x}, \\mathbf{x}^\\prime) = \n",
    "  \\exp \\left( - \\gamma \\| \\mathbf{x} - \\mathbf{x}^\\prime \\|^2 \\right) \n",
    "\\end{equation}"
   ]
  },
  {
   "cell_type": "markdown",
   "metadata": {},
   "source": [
    "### Similarity\n",
    "\n",
    "A dot product is a measure of the *similarity* of two vectors.  Specifically, it is a measure of how parallel the two vectors are, with the dot product maximized when the vectors are parallel, minimized when the vectors are antiparallel, and equal to 0 when the vectors are orthogonal.  However, kernels represent other measures of similarity.  For example, the Gaussian RBF kernel is a measure of the closeness of the endpoints of two vectors.  It is maximized (at 1) when the vectors' endpoints are identical and minimized (at 0) when the vectors' endpoints are infitely far apart.  We can use this kernel or another similarity measure to draw the optimum nonlinear boundary between our two classes.  "
   ]
  },
  {
   "cell_type": "markdown",
   "metadata": {},
   "source": [
    "### Input Space vs. Feature Space\n",
    "\n",
    "<img src=\"images/Kernel_Machine.png\">\n",
    "(Image source: https://commons.wikimedia.org/wiki/File:Kernel_Machine.png, used in https://en.wikipedia.org/wiki/Support_vector_machine)\n",
    "\n",
    "From another perspective, each kernel $k$ has an associated *feature map* $\\mathbf{\\Phi}$ which transforms the *input space* to a higher-dimensional *feature space* where the data is, ideally, linearly separable.  The kernel in the input space is equivalent to a dot product in the feature space, i.e. \n",
    "\\begin{equation}\n",
    "k(\\mathbf{x}, \\mathbf{x}^\\prime) = \n",
    "  \\mathbf{\\Phi} (\\mathbf{x}) \\cdot \\mathbf{\\Phi} (\\mathbf{x}^\\prime)\n",
    "\\end{equation}\n",
    "\n",
    "The feature space can have *infinite dimension!*  Consider, for example, the Gaussian RBF kernel acting on a single-dimensional $x.$  One can show that an associated feature mapping is \n",
    "\\begin{equation}\n",
    "\\mathbf{\\Phi} (x) = \n",
    "  \\exp \\left( - \\frac{x^2}{2 \\sigma^2} \\right)\n",
    "  \\sum_{n=0}^{\\infty} \\frac{x^n}{(n!)^{1/2} \\sigma^n} \\mathbf{e}_n, \n",
    "\\end{equation}\n",
    "where $\\mathbf{e}_n$ is an orthonormal feature space basis vector.  \n",
    "\n",
    "The feature mappings quickly become more complicated for $x \\in \\mathbb{R}^m$, with $m > 1$.  For example, if $m = 2$, \n",
    "\\begin{equation}\n",
    "\\mathbf{\\Phi} (\\mathbf{x}) = \n",
    "  \\exp \\left( - \\frac{\\| \\mathbf{x} \\|^2}{2 \\sigma^2} \\right)\n",
    "  \\sum_{n=0}^\\infty \\sum_{i=0}^n \\frac{x_1^i x_2^{n-i}}{[i! (n-i)!]^{1/2} \\sigma^n} \n",
    "  \\mathbf{e}_n, \n",
    "\\end{equation}\n",
    "while for a general $m$, \n",
    "\\begin{equation}\n",
    "\\mathbf{\\Phi} (\\mathbf{x}) = \n",
    "  \\exp \\left( - \\frac{\\| \\mathbf{x} \\|^2}{2 \\sigma^2} \\right)\n",
    "  \\sum_{n=0}^\\infty \\sum_{k_1 + ... + k_m = n}^\\infty \n",
    "    \\frac{1}{(k_1 ! ... k_m !)^{1/2} \\sigma^n}\n",
    "    \\prod_{1 \\leq t \\leq m} x_t^{k_t} \\mathbf{e}_n\n",
    "\\end{equation}\n",
    "\n",
    "NOTE: The form of the kernel does *not,* in general, correspond to the form of the boundary.  As an example, consider a homogeneous quadratic kernel with $x \\in \\mathbb{R}^2.$  An associated feature mapping is $\\mathbf{\\Phi}(\\mathbf{x}) = \\left(x_1^2, \\sqrt{2} x_1 x_2, x_2^2 \\right).$  One can show that 4 points on the curve $y = a x^2$ in the input space do not typically map to 4 coplanar points in the feature space.  In other words, a quadratic kernel does not imply a quadratic class boundary in the input space."
   ]
  },
  {
   "cell_type": "markdown",
   "metadata": {},
   "source": [
    "### How do we account for the possibly infinite dimensionality of the feature space?\n",
    "\n",
    "Fortunately, we do not need to know the form of a feature mapping to reap the benefits of a kernel method.  To demonstrate this, let us first assume that $\\mathbf{w}$ is normal to the class boundary hyperplane in feature space and expressed as a linear combination of support vectors in feature space, i.e. \n",
    "\\begin{equation}\n",
    "\\mathbf{w} = \\sum_{i=1}^\\ell y_i \\alpha_i \\mathbf{\\Phi}(\\mathbf{x}_i).\n",
    "\\end{equation}\n",
    "The *decision function,* which predicts the class of an observation, takes on the following form: \n",
    "\\begin{equation}\n",
    "\\begin{aligned}\n",
    "f(\\mathbf{x}) &= \\textrm{sgn} \\left( \\mathbf{w} \\cdot \\mathbf{\\Phi}(\\mathbf{x}) + b \\right)\n",
    "\\\\\n",
    "&= \\textrm{sgn} \n",
    "  \\left( \n",
    "    \\sum_{i=1}^\\ell \n",
    "    y_i \\alpha_i \n",
    "    \\mathbf{\\Phi}(\\mathbf{x}_i) \n",
    "    \\cdot \\mathbf{\\Phi}(\\mathbf{x}) \n",
    "    + b\n",
    "  \\right)\n",
    "\\\\\n",
    "&= \\textrm{sgn} \\left( \\sum_{i=1}^\\ell y_i \\alpha_i k(\\mathbf{x}, \\mathbf{x}_i) + b \\right).  \n",
    "\\end{aligned}\n",
    "\\end{equation}\n",
    "\n",
    "The associated *Wolfe dual optimization function,* in turn, becomes \n",
    "\\begin{equation}\n",
    "W(\\mathbf{\\alpha}) = \n",
    "  \\sum_{i=1}^\\ell \\alpha_i - \n",
    "  \\frac{1}{2} \n",
    "    \\sum_{i=1}^\\ell \n",
    "    \\sum_{j=1}^\\ell \\alpha_i \\alpha_j y_i y_j k(\\mathbf{x}, \\mathbf{x}_i).  \n",
    "\\end{equation}\n",
    "\n",
    "In the hard-margin limit, i.e. the assumption that misclassification of the training data is not allowed, we take the same steps to draw the classification boundary as in the linearly separable case, only with each dot product replaced by a kernel."
   ]
  },
  {
   "cell_type": "markdown",
   "metadata": {
    "collapsed": true
   },
   "source": [
    "## Cost Function, Regularization, and the Soft-Margin Case\n",
    "\n",
    "<img src='images/so-libsvm.png'>\n",
    "(Image source: http://yaroslavvb.com/upload/save/so-libsvm.png,  \n",
    "used in http://stackoverflow.com/questions/4629505/svm-hard-or-soft-margins)\n",
    "\n",
    "Even with kernels, there are some situations where the classes are not linearly separable, or where the margins are so small that the decision functions are prone to overfitting.  To mitigate these situations, we introduce the *hinge loss function* \n",
    "\\begin{equation}\n",
    "\\max \\left( 0, 1 - y_i [ k(\\mathbf{w}, \\mathbf{x}_i) + b ] \\right) \n",
    "\\end{equation}\n",
    "(which equals 0 if an $\\mathbf{x}_i$ is on the correct side of the boundary and is otherwise proportional to the distance between $\\mathbf{x}_i$ and the margin), and an $L^2$ regularization term $\\lambda \\| \\mathbf{w} \\|^2$.  We then wish to minimize the cost function \n",
    "\\begin{equation}\n",
    "\\textrm{cost}(\\mathbf{w},b,\\lambda) = \n",
    "  \\left[ \n",
    "    \\frac{1}{\\ell} \\sum_{i=1}^\\ell \n",
    "      \\max \\left( 0, 1 - y_i [ k(\\mathbf{w}, \\mathbf{x}_i) + b ] \\right) \n",
    "  \\right] + \n",
    "  \\lambda \\| \\mathbf{w} \\|^2.\n",
    "\\end{equation}\n",
    "This can be accomplished either with Wolfe duals or directly with a sub-gradient descent method.\n",
    "\n",
    "Some implementations vary the influence of the hinge function instead of the regularization term, i.e. they define the cost function as \n",
    "\\begin{equation}\n",
    "\\textrm{cost}(\\mathbf{w},b,C) = \n",
    "  \\left[ \n",
    "    \\frac{C}{\\ell} \\sum_{i=1}^\\ell \n",
    "      \\max \\left( 0, 1 - y_i [ k(\\mathbf{w}, \\mathbf{x}_i) + b ] \\right) \n",
    "  \\right] + \n",
    "  \\frac{1}{2} \\| \\mathbf{w} \\|^2.\n",
    "\\end{equation}\n",
    "\n",
    "Note that here, I have expressed $\\mathbf{w}$ in the input space basis rather than the feature space basis.  Note also the similarities between the cost function(s) and the Lagrangian described earlier."
   ]
  },
  {
   "cell_type": "markdown",
   "metadata": {
    "collapsed": true
   },
   "source": [
    "## Practical Considerations\n",
    "\n",
    "### Data Size\n",
    "SVMs work best in high-dimensional input spaces where the number of observations (the number of data points) is greater than the number of features (the number of dimensions of the input space), but as long as the number of observations isn't too much less than the number of features.  Professor Andrew Ng of Stanford recommends the following guidelines for using SVMs in classification problems: \n",
    "\n",
    "Given a number of features $n$ and a number of observations $m$, \n",
    "\n",
    "* If $n \\gg m$, use logistic regression or SVM without a kernel.\n",
    "\n",
    "* If $n \\in [1,1000]$ and $m \\in [10,10000]$, use SVM with a Gaussian kernel. \n",
    "\n",
    "* If $n \\ll m$, say, $n \\in [1,1000]$ and $m < 50000$, use logistic regression or SVM without a kernel.\n",
    "\n",
    "### Parameters\n",
    "Moreover, choosing the kernel parameters (say, the width of a Gaussian kernel) and the amount of regularization (or, conversely, the strength of the hinge function) can have significant effects on the performance of an SVM model.  If the regularization term dominates the cost function, the decision boundary will be smooth, but the model is more likely to misclassify data.  If the hinge term dominates, the model will be more likely to classify all data correctly, but the decision boundary will be more complicated and prone to overfitting.  \n",
    "\n",
    "### Scaling\n",
    "SVMs are scale-dependent, so in general, one should scale the training data and apply the same scaling to the test data when employing a support vector machine."
   ]
  },
  {
   "cell_type": "markdown",
   "metadata": {},
   "source": [
    "## Extensions\n",
    "\n",
    "Support vector machines can be extended beyond binary classification problems to: \n",
    "\n",
    "### Multiclass Classification\n",
    "Either one-versus-all or one-versus-one.\n",
    "\n",
    "### Clustering\n",
    "Similar to multiclass classification, but with unlabeled data.\n",
    "\n",
    "### Regression\n",
    "<img src='images/Support_Vector_Regression.jpg'>\n",
    "(Image source: http://kernelsvm.tripod.com/index_files/image061.jpg, used in http://kernelsvm.tripod.com/)\n",
    "\n",
    "Rather than finding one optimum boundary, we find many with $k(\\mathbf{w},\\mathbf{x}) + b = y$, and predict that an observation $\\mathbf{x}$ has a target value $y$ if $\\mathbf{x}$ is within some small threshold $\\varepsilon$ of the boundary.  One can imagine the boundaries as contour lines of a surface, only the surface is terraced rather than continuous.  \n",
    "\n",
    "### SVEN\n",
    "In 2014, [Zhou et al.](https://arxiv.org/abs/1409.1976) proved that elastic net regression is a special case of a support vector machine.  They named their implementation SVEN, for Support Vector Elastic Net.\n"
   ]
  },
  {
   "cell_type": "markdown",
   "metadata": {},
   "source": [
    "## Applications\n",
    "\n",
    "Real-world applications include, but are by no means limited to: \n",
    "\n",
    "* [Text](https://www.cs.cornell.edu/people/tj/publications/joachims_98a.pdf) and [hypertext](dl.ifip.org/db/series/lncs/lncs5640/BenbrahimB09.pdf) categorization\n",
    "\n",
    "* [Image classification](http://www.di.ens.fr/willow/events/cvml2011/materials/practical-classification/), \n",
    "\n",
    "* [Hand-written character recognition](https://arxiv.org/pdf/1006.5902)\n",
    "\n",
    "* [Protein classification](http://www.ncbi.nlm.nih.gov/pmc/articles/PMC169006/)\n",
    "\n",
    "* [Medical diagnoses from MRI images](http://www.ncbi.nlm.nih.gov/pmc/articles/PMC3767485/)"
   ]
  },
  {
   "cell_type": "markdown",
   "metadata": {},
   "source": [
    "## Implementations\n",
    "\n",
    "There are many implementations of SVMs.  The most relevant ones to this audience are the [```svm()```](https://cran.r-project.org/web/packages/e1071/vignettes/svmdoc.pdf) function in the R's ```e1071``` package (which we've already seen) and several functions in Python's [```scikit-learn```](http://scikit-learn.org/stable/modules/svm.html) (a.k.a. ```sklearn```) package.\n",
    "\n"
   ]
  },
  {
   "cell_type": "markdown",
   "metadata": {},
   "source": [
    "## Toy Problems"
   ]
  },
  {
   "cell_type": "markdown",
   "metadata": {},
   "source": [
    "### Multiclass classification with the Iris data set\n",
    "Taken from http://scikit-learn.org/stable/auto_examples/svm/plot_iris.html"
   ]
  },
  {
   "cell_type": "code",
   "execution_count": 1,
   "metadata": {
    "collapsed": true
   },
   "outputs": [],
   "source": [
    "# Import the necessary packages\n",
    "import numpy as np\n",
    "import matplotlib.pyplot as plt\n",
    "from sklearn import svm, datasets\n",
    "\n",
    "# Enable inline plotting with matplotlib\n",
    "%matplotlib inline"
   ]
  },
  {
   "cell_type": "code",
   "execution_count": 2,
   "metadata": {
    "collapsed": true
   },
   "outputs": [],
   "source": [
    "# Import some data to play with\n",
    "iris = datasets.load_iris()\n",
    "X = iris.data[:, :2]  # We only take the first two features. We could\n",
    "                      # avoid this ugly slicing by using a two-dim dataset\n",
    "y = iris.target\n",
    "\n",
    "h = .02  # step size in the mesh"
   ]
  },
  {
   "cell_type": "code",
   "execution_count": 3,
   "metadata": {
    "collapsed": true
   },
   "outputs": [],
   "source": [
    "# We create an instance of SVM and fit our data. We do not scale our\n",
    "# data since we want to plot the support vectors\n",
    "C = 1.0  # SVM regularization parameter\n",
    "svc = svm.SVC(kernel='linear', C=C).fit(X, y)\n",
    "rbf_svc = svm.SVC(kernel='rbf', gamma=0.7, C=C).fit(X, y)\n",
    "poly_svc = svm.SVC(kernel='poly', degree=3, C=C).fit(X, y)\n",
    "lin_svc = svm.LinearSVC(C=C).fit(X, y)"
   ]
  },
  {
   "cell_type": "code",
   "execution_count": 4,
   "metadata": {
    "collapsed": true
   },
   "outputs": [],
   "source": [
    "# Create a mesh to plot in\n",
    "x_min, x_max = X[:, 0].min() - 1, X[:, 0].max() + 1\n",
    "y_min, y_max = X[:, 1].min() - 1, X[:, 1].max() + 1\n",
    "xx, yy = np.meshgrid(np.arange(x_min, x_max, h),\n",
    "                     np.arange(y_min, y_max, h))"
   ]
  },
  {
   "cell_type": "code",
   "execution_count": 5,
   "metadata": {
    "collapsed": true
   },
   "outputs": [],
   "source": [
    "# Plot titles\n",
    "titles = ['SVC with linear kernel',\n",
    "          'LinearSVC (linear kernel)',\n",
    "          'SVC with RBF kernel',\n",
    "          'SVC with polynomial (degree 3) kernel']"
   ]
  },
  {
   "cell_type": "code",
   "execution_count": 6,
   "metadata": {
    "collapsed": false
   },
   "outputs": [
    {
     "data": {
      "image/png": "[encoded data removed]",
      "text/plain": [
       "<matplotlib.figure.Figure at 0x112207d30>"
      ]
     },
     "metadata": {},
     "output_type": "display_data"
    }
   ],
   "source": [
    "# Generate the plots\n",
    "for i, clf in enumerate((svc, lin_svc, rbf_svc, poly_svc)):\n",
    "    # Plot the decision boundary. For that, we will assign a color to each\n",
    "    # point in the mesh [x_min, m_max]x[y_min, y_max].\n",
    "    plt.subplot(2, 2, i + 1)\n",
    "    plt.subplots_adjust(wspace=0.4, hspace=0.4)\n",
    "\n",
    "    Z = clf.predict(np.c_[xx.ravel(), yy.ravel()])\n",
    "\n",
    "    # Put the result into a color plot\n",
    "    Z = Z.reshape(xx.shape)\n",
    "    plt.contourf(xx, yy, Z, cmap=plt.cm.Paired, alpha=0.8)\n",
    "\n",
    "    # Plot also the training points\n",
    "    plt.scatter(X[:, 0], X[:, 1], c=y, cmap=plt.cm.Paired)\n",
    "    plt.xlabel('Sepal length')\n",
    "    plt.ylabel('Sepal width')\n",
    "    plt.xlim(xx.min(), xx.max())\n",
    "    plt.ylim(yy.min(), yy.max())\n",
    "    plt.xticks(())\n",
    "    plt.yticks(())\n",
    "    plt.title(titles[i])\n",
    "\n",
    "plt.show()"
   ]
  },
  {
   "cell_type": "markdown",
   "metadata": {
    "collapsed": true
   },
   "source": [
    "### Parameter estimation using grid search with cross-validation\n",
    "Adapted from [here](http://scikit-learn.org/stable/auto_examples/model_selection/grid_search_digits.html#example-model-selection-grid-search-digits-py)"
   ]
  },
  {
   "cell_type": "code",
   "execution_count": 7,
   "metadata": {
    "collapsed": true
   },
   "outputs": [],
   "source": [
    "# Import modules not already loaded\n",
    "from sklearn.cross_validation import train_test_split\n",
    "from sklearn.grid_search import GridSearchCV\n",
    "from sklearn.metrics import classification_report"
   ]
  },
  {
   "cell_type": "code",
   "execution_count": 8,
   "metadata": {
    "collapsed": true
   },
   "outputs": [],
   "source": [
    "# Load the Digits dataset\n",
    "digits = datasets.load_digits()"
   ]
  },
  {
   "cell_type": "code",
   "execution_count": 9,
   "metadata": {
    "collapsed": true
   },
   "outputs": [],
   "source": [
    "# To apply an classifier on this data, we need to flatten the image, to\n",
    "# turn the data in a (samples, feature) matrix:\n",
    "n_samples = len(digits.images)\n",
    "X = digits.images.reshape((n_samples, -1))\n",
    "y = digits.target"
   ]
  },
  {
   "cell_type": "code",
   "execution_count": 10,
   "metadata": {
    "collapsed": true
   },
   "outputs": [],
   "source": [
    "# Split the dataset in two equal parts\n",
    "X_train, X_test, y_train, y_test = train_test_split(\n",
    "    X, y, test_size=0.5, random_state=0)"
   ]
  },
  {
   "cell_type": "code",
   "execution_count": 11,
   "metadata": {
    "collapsed": true
   },
   "outputs": [],
   "source": [
    "# Set the parameters by cross-validation\n",
    "tuned_parameters = [{'kernel': ['rbf'], 'gamma': [1e-3, 1e-4],\n",
    "                     'C': [1, 10, 100, 1000]},\n",
    "                    {'kernel': ['linear'], 'C': [1, 10, 100, 1000]}]"
   ]
  },
  {
   "cell_type": "code",
   "execution_count": 12,
   "metadata": {
    "collapsed": false
   },
   "outputs": [
    {
     "name": "stdout",
     "output_type": "stream",
     "text": [
      "# Tuning hyper-parameters for precision\n",
      "\n",
      "Best parameters set found on development set:\n",
      "\n",
      "{'kernel': 'rbf', 'gamma': 0.001, 'C': 10}\n",
      "\n",
      "Grid scores on development set:\n",
      "\n",
      "0.987 (+/-0.018) for {'kernel': 'rbf', 'gamma': 0.001, 'C': 1}\n",
      "0.959 (+/-0.030) for {'kernel': 'rbf', 'gamma': 0.0001, 'C': 1}\n",
      "0.988 (+/-0.018) for {'kernel': 'rbf', 'gamma': 0.001, 'C': 10}\n",
      "0.982 (+/-0.027) for {'kernel': 'rbf', 'gamma': 0.0001, 'C': 10}\n",
      "0.988 (+/-0.018) for {'kernel': 'rbf', 'gamma': 0.001, 'C': 100}\n",
      "0.982 (+/-0.026) for {'kernel': 'rbf', 'gamma': 0.0001, 'C': 100}\n",
      "0.988 (+/-0.018) for {'kernel': 'rbf', 'gamma': 0.001, 'C': 1000}\n",
      "0.982 (+/-0.026) for {'kernel': 'rbf', 'gamma': 0.0001, 'C': 1000}\n",
      "0.974 (+/-0.014) for {'kernel': 'linear', 'C': 1}\n",
      "0.974 (+/-0.014) for {'kernel': 'linear', 'C': 10}\n",
      "0.974 (+/-0.014) for {'kernel': 'linear', 'C': 100}\n",
      "0.974 (+/-0.014) for {'kernel': 'linear', 'C': 1000}\n",
      "\n",
      "Detailed classification report:\n",
      "\n",
      "The model is trained on the full development set.\n",
      "The scores are computed on the full evaluation set.\n",
      "\n",
      "             precision    recall  f1-score   support\n",
      "\n",
      "          0       1.00      1.00      1.00        89\n",
      "          1       0.97      1.00      0.98        90\n",
      "          2       0.99      0.98      0.98        92\n",
      "          3       1.00      0.99      0.99        93\n",
      "          4       1.00      1.00      1.00        76\n",
      "          5       0.99      0.98      0.99       108\n",
      "          6       0.99      1.00      0.99        89\n",
      "          7       0.99      1.00      0.99        78\n",
      "          8       1.00      0.98      0.99        92\n",
      "          9       0.99      0.99      0.99        92\n",
      "\n",
      "avg / total       0.99      0.99      0.99       899\n",
      "\n",
      "\n",
      "# Tuning hyper-parameters for recall\n",
      "\n",
      "Best parameters set found on development set:\n",
      "\n",
      "{'kernel': 'rbf', 'gamma': 0.001, 'C': 10}\n",
      "\n",
      "Grid scores on development set:\n",
      "\n",
      "0.986 (+/-0.021) for {'kernel': 'rbf', 'gamma': 0.001, 'C': 1}\n",
      "0.958 (+/-0.029) for {'kernel': 'rbf', 'gamma': 0.0001, 'C': 1}\n",
      "0.987 (+/-0.021) for {'kernel': 'rbf', 'gamma': 0.001, 'C': 10}\n",
      "0.981 (+/-0.029) for {'kernel': 'rbf', 'gamma': 0.0001, 'C': 10}\n",
      "0.987 (+/-0.021) for {'kernel': 'rbf', 'gamma': 0.001, 'C': 100}\n",
      "0.981 (+/-0.027) for {'kernel': 'rbf', 'gamma': 0.0001, 'C': 100}\n",
      "0.987 (+/-0.021) for {'kernel': 'rbf', 'gamma': 0.001, 'C': 1000}\n",
      "0.981 (+/-0.027) for {'kernel': 'rbf', 'gamma': 0.0001, 'C': 1000}\n",
      "0.973 (+/-0.015) for {'kernel': 'linear', 'C': 1}\n",
      "0.973 (+/-0.015) for {'kernel': 'linear', 'C': 10}\n",
      "0.973 (+/-0.015) for {'kernel': 'linear', 'C': 100}\n",
      "0.973 (+/-0.015) for {'kernel': 'linear', 'C': 1000}\n",
      "\n",
      "Detailed classification report:\n",
      "\n",
      "The model is trained on the full development set.\n",
      "The scores are computed on the full evaluation set.\n",
      "\n",
      "             precision    recall  f1-score   support\n",
      "\n",
      "          0       1.00      1.00      1.00        89\n",
      "          1       0.97      1.00      0.98        90\n",
      "          2       0.99      0.98      0.98        92\n",
      "          3       1.00      0.99      0.99        93\n",
      "          4       1.00      1.00      1.00        76\n",
      "          5       0.99      0.98      0.99       108\n",
      "          6       0.99      1.00      0.99        89\n",
      "          7       0.99      1.00      0.99        78\n",
      "          8       1.00      0.98      0.99        92\n",
      "          9       0.99      0.99      0.99        92\n",
      "\n",
      "avg / total       0.99      0.99      0.99       899\n",
      "\n",
      "\n",
      "# Tuning hyper-parameters for f1\n",
      "\n",
      "Best parameters set found on development set:\n",
      "\n",
      "{'kernel': 'rbf', 'gamma': 0.001, 'C': 10}\n",
      "\n",
      "Grid scores on development set:\n",
      "\n",
      "0.986 (+/-0.020) for {'kernel': 'rbf', 'gamma': 0.001, 'C': 1}\n",
      "0.958 (+/-0.030) for {'kernel': 'rbf', 'gamma': 0.0001, 'C': 1}\n",
      "0.987 (+/-0.020) for {'kernel': 'rbf', 'gamma': 0.001, 'C': 10}\n",
      "0.981 (+/-0.029) for {'kernel': 'rbf', 'gamma': 0.0001, 'C': 10}\n",
      "0.987 (+/-0.020) for {'kernel': 'rbf', 'gamma': 0.001, 'C': 100}\n",
      "0.981 (+/-0.027) for {'kernel': 'rbf', 'gamma': 0.0001, 'C': 100}\n",
      "0.987 (+/-0.020) for {'kernel': 'rbf', 'gamma': 0.001, 'C': 1000}\n",
      "0.981 (+/-0.027) for {'kernel': 'rbf', 'gamma': 0.0001, 'C': 1000}\n",
      "0.973 (+/-0.015) for {'kernel': 'linear', 'C': 1}\n",
      "0.973 (+/-0.015) for {'kernel': 'linear', 'C': 10}\n",
      "0.973 (+/-0.015) for {'kernel': 'linear', 'C': 100}\n",
      "0.973 (+/-0.015) for {'kernel': 'linear', 'C': 1000}\n",
      "\n",
      "Detailed classification report:\n",
      "\n",
      "The model is trained on the full development set.\n",
      "The scores are computed on the full evaluation set.\n",
      "\n",
      "             precision    recall  f1-score   support\n",
      "\n",
      "          0       1.00      1.00      1.00        89\n",
      "          1       0.97      1.00      0.98        90\n",
      "          2       0.99      0.98      0.98        92\n",
      "          3       1.00      0.99      0.99        93\n",
      "          4       1.00      1.00      1.00        76\n",
      "          5       0.99      0.98      0.99       108\n",
      "          6       0.99      1.00      0.99        89\n",
      "          7       0.99      1.00      0.99        78\n",
      "          8       1.00      0.98      0.99        92\n",
      "          9       0.99      0.99      0.99        92\n",
      "\n",
      "avg / total       0.99      0.99      0.99       899\n",
      "\n",
      "\n"
     ]
    }
   ],
   "source": [
    "# Find the best parameter tunings according to several different metrics \n",
    "scores = ['precision', 'recall', 'f1']\n",
    "\n",
    "for score in scores:\n",
    "    print(\"# Tuning hyper-parameters for %s\" % score)\n",
    "    print()\n",
    "\n",
    "    clf = GridSearchCV(svm.SVC(C=1), tuned_parameters, cv=5,\n",
    "                       scoring='%s_weighted' % score)\n",
    "    clf.fit(X_train, y_train)\n",
    "\n",
    "    print(\"Best parameters set found on development set:\")\n",
    "    print()\n",
    "    print(clf.best_params_)\n",
    "    print()\n",
    "    print(\"Grid scores on development set:\")\n",
    "    print()\n",
    "    for params, mean_score, scores in clf.grid_scores_:\n",
    "        print(\"%0.3f (+/-%0.03f) for %r\"\n",
    "              % (mean_score, scores.std() * 2, params))\n",
    "    print()\n",
    "\n",
    "    print(\"Detailed classification report:\")\n",
    "    print()\n",
    "    print(\"The model is trained on the full development set.\")\n",
    "    print(\"The scores are computed on the full evaluation set.\")\n",
    "    print()\n",
    "    y_true, y_pred = y_test, clf.predict(X_test)\n",
    "    print(classification_report(y_true, y_pred))\n",
    "    print()\n",
    "\n",
    "# Note the problem is too easy: the hyperparameter plateau is too flat and the\n",
    "# output model is the same for precision and recall with ties in quality."
   ]
  },
  {
   "cell_type": "markdown",
   "metadata": {
    "collapsed": true
   },
   "source": [
    "## Resources\n",
    "\n",
    "* [Kernel Machines](http://www.kernel-machines.org/), especially their [FAQ page](http://www.kernel-machines.org/frequently-asked-questions)\n",
    "\n",
    "* [Advances in Kernel Methods: Support Vector Learning](https://www.amazon.com/Advances-Kernel-Methods-Support-Learning/dp/0262194163) (Schölkopf et al., MIT Press, © 1998), especially Chapters 1 and 3\n",
    "\n",
    "* [The Nature of Statistical Learning Theory](http://www.springer.com/us/book/9780387987804) (Vapnik, Springer Verlag, © 2000, 2nd Edition)\n",
    "\n",
    "* [Andrew Ng's SVM slides](cs229.stanford.edu/notes/cs229-notes3.pdf), part of [CS 299 at Stanford](http://cs229.stanford.edu/materials.html) and this [Coursera Machine Learning class](https://www.coursera.org/learn/machine-learning).  Note that Ng presents SVMs as a modification of logistic regression, and thus numbers binary classes as 1 and 0.  His formulation is different in appearance from the one presented here, but fundamentally equivalent.\n",
    "\n",
    "* [Support Vector Machines and Kernel Methods: Status and Challenges](http://www.csie.ntu.edu.tw/~cjlin/talks/kuleuven_svm.pdf) (Lin, 2013, talk at KU Leuven Optimization in Engineering Center)\n",
    "\n",
    "* [A Tutorial on Support Vector Machines for Pattern Recognition](https://www.microsoft.com/en-us/research/publication/a-tutorial-on-support-vector-machines-for-pattern-recognition/) (Burges, Kluwer Academic Publishers, © 1998) (Mathematically intensive)\n",
    "\n",
    "* [Kernel Methods in Machine Learning](www.kernel-machines.org/publications/pdfs/0701907.pdf) (Hofmann et al., The Annals of Statistics, © 2008) (Mathematically intensive)"
   ]
  },
  {
   "cell_type": "code",
   "execution_count": null,
   "metadata": {
    "collapsed": true
   },
   "outputs": [],
   "source": []
  }
 ],
 "metadata": {
  "kernelspec": {
   "display_name": "Python 3",
   "language": "python",
   "name": "python3"
  },
  "language_info": {
   "codemirror_mode": {
    "name": "ipython",
    "version": 3
   },
   "file_extension": ".py",
   "mimetype": "text/x-python",
   "name": "python",
   "nbconvert_exporter": "python",
   "pygments_lexer": "ipython3",
   "version": "3.4.5"
  }
 },
 "nbformat": 4,
 "nbformat_minor": 0
}
