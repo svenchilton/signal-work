{
 "cells": [
  {
   "cell_type": "markdown",
   "metadata": {},
   "source": [
    "Sven Chilton and Rafael Lacerda"
   ]
  },
  {
   "cell_type": "markdown",
   "metadata": {},
   "source": [
    "Signal Data Science Cohort 3"
   ]
  },
  {
   "cell_type": "markdown",
   "metadata": {},
   "source": [
    "Basic Algorithms assignment"
   ]
  },
  {
   "cell_type": "markdown",
   "metadata": {},
   "source": [
    "Find the sum of all multiples of 3 or 5 strictly below 1000"
   ]
  },
  {
   "cell_type": "code",
   "execution_count": 1,
   "metadata": {
    "collapsed": true
   },
   "outputs": [],
   "source": [
    "import numpy as np\n",
    "import math\n",
    "import random"
   ]
  },
  {
   "cell_type": "code",
   "execution_count": 2,
   "metadata": {
    "collapsed": false
   },
   "outputs": [],
   "source": [
    "mult_3_below_1000 = set(range(3,1000,3))\n",
    "mult_5_below_1000 = set(range(5,1000,5))\n",
    "mult_3_or_5_below_1000 = mult_3_below_1000.union(mult_5_below_1000)\n",
    "sum_mult_3_or_5_below_1000 = sum(mult_3_or_5_below_1000)"
   ]
  },
  {
   "cell_type": "code",
   "execution_count": 3,
   "metadata": {
    "collapsed": false
   },
   "outputs": [
    {
     "data": {
      "text/plain": [
       "233168"
      ]
     },
     "execution_count": 3,
     "metadata": {},
     "output_type": "execute_result"
    }
   ],
   "source": [
    "sum_mult_3_or_5_below_1000"
   ]
  },
  {
   "cell_type": "markdown",
   "metadata": {},
   "source": [
    "Find the sum of all even Fibonacci numbers below or equal to 4 million"
   ]
  },
  {
   "cell_type": "code",
   "execution_count": 4,
   "metadata": {
    "collapsed": false
   },
   "outputs": [],
   "source": [
    "def sum_even_fib_up_to(x):\n",
    "    assert x >= 2, 'x must be equal to or greater than 2'\n",
    "    # Determine an upper bound on n\n",
    "    # This comes from Fibonacci(n) = (phi**n - phi**(-n))/(5**0.5), \n",
    "    # where phi = (1 + 5**0.5)/2\n",
    "    nmax = int(np.log((x*5**0.5 + (5*x**2+4)**0.5)/2)/np.log((1+5**0.5)/2))+1\n",
    "    # Initialize a list of zeros\n",
    "    fib = [0]*nmax\n",
    "    fib[0],fib[1] = (1,2)\n",
    "    even_fib_sum = 2\n",
    "    for i in range(2,nmax):\n",
    "        fib[i] = fib[i-1] + fib[i-2]\n",
    "        if fib[i] > x: break\n",
    "        if fib[i] % 2 == 0:\n",
    "            even_fib_sum += fib[i]\n",
    "    return even_fib_sum"
   ]
  },
  {
   "cell_type": "code",
   "execution_count": 5,
   "metadata": {
    "collapsed": false
   },
   "outputs": [
    {
     "data": {
      "text/plain": [
       "4613732"
      ]
     },
     "execution_count": 5,
     "metadata": {},
     "output_type": "execute_result"
    }
   ],
   "source": [
    "sum_even_fib_up_to(4*10**6)"
   ]
  },
  {
   "cell_type": "markdown",
   "metadata": {},
   "source": [
    "Find the largest prime factor of the number 600851475143"
   ]
  },
  {
   "cell_type": "code",
   "execution_count": 6,
   "metadata": {
    "collapsed": false
   },
   "outputs": [
    {
     "data": {
      "text/plain": [
       "6857"
      ]
     },
     "execution_count": 6,
     "metadata": {},
     "output_type": "execute_result"
    }
   ],
   "source": [
    "def min_factor(x):\n",
    "    if (x % 2 == 0): return 2\n",
    "    if (x % 3 == 0): return 3\n",
    "    for i in range(5, int(x**0.5)+1, 2):\n",
    "        if x % i == 0: return i\n",
    "    return x\n",
    "\n",
    "n = 600851475143\n",
    "q = n\n",
    "while q != 1:\n",
    "    mf = min_factor(q)\n",
    "    q //= mf\n",
    "mf    "
   ]
  },
  {
   "cell_type": "markdown",
   "metadata": {},
   "source": [
    "Find the largest palindromic number made from the product of two 3-digit numbers"
   ]
  },
  {
   "cell_type": "code",
   "execution_count": 7,
   "metadata": {
    "collapsed": false
   },
   "outputs": [
    {
     "data": {
      "text/plain": [
       "[906609, 993, 913]"
      ]
     },
     "execution_count": 7,
     "metadata": {},
     "output_type": "execute_result"
    }
   ],
   "source": [
    "def is_palindrome(s): return s == s[::-1]\n",
    "\n",
    "palindromes = []\n",
    "for i in range(100,1000):\n",
    "    for j in range(100,1000):\n",
    "        k = i*j\n",
    "        if is_palindrome(str(i*j)): \n",
    "            palindromes.append([k,i,j])\n",
    "\n",
    "max(palindromes)"
   ]
  },
  {
   "cell_type": "markdown",
   "metadata": {},
   "source": [
    "Find the least common multiple of all the positive integers from 1 through 20, inclusive"
   ]
  },
  {
   "cell_type": "code",
   "execution_count": 8,
   "metadata": {
    "collapsed": true
   },
   "outputs": [],
   "source": [
    "def min_factor(x):\n",
    "    if (x % 2 == 0): return 2\n",
    "    if (x % 3 == 0): return 3\n",
    "    for i in range(5, int(x**0.5)+1, 2):\n",
    "        if x % i == 0: return i\n",
    "    return x\n",
    "\n",
    "def factor_array(x):\n",
    "    flist = []\n",
    "    if x == 1: return np.array([1])\n",
    "    while x != 1:\n",
    "        mf = min_factor(x)\n",
    "        flist.append(mf)\n",
    "        x //= mf\n",
    "    farr = np.array(flist)\n",
    "    return farr\n",
    "\n",
    "def lcm_up_to(x):\n",
    "    lcm = 1\n",
    "    arr = np.arange(1,x+1)\n",
    "    for i,e in enumerate(arr):\n",
    "        farr = factor_array(e)\n",
    "        if all(farr == farr[0]): \n",
    "            lcm *= farr[0]\n",
    "    return lcm\n",
    "        "
   ]
  },
  {
   "cell_type": "code",
   "execution_count": 9,
   "metadata": {
    "collapsed": false
   },
   "outputs": [
    {
     "name": "stderr",
     "output_type": "stream",
     "text": [
      "/Users/svenchilton/anaconda/envs/python3/lib/python3.4/site-packages/ipykernel/__main__.py:24: RuntimeWarning: overflow encountered in long_scalars\n"
     ]
    },
    {
     "name": "stdout",
     "output_type": "stream",
     "text": [
      "100 loops, best of 3: 4.57 ms per loop\n"
     ]
    }
   ],
   "source": [
    "%%timeit\n",
    "lcm_up_to(500)"
   ]
  },
  {
   "cell_type": "markdown",
   "metadata": {},
   "source": [
    "Find the difference between the sum of the squares of the first one hundred\n",
    "natural numbers and the square of the sum."
   ]
  },
  {
   "cell_type": "code",
   "execution_count": 10,
   "metadata": {
    "collapsed": false
   },
   "outputs": [
    {
     "name": "stdout",
     "output_type": "stream",
     "text": [
      "10000 loops, best of 3: 19.8 µs per loop\n"
     ]
    }
   ],
   "source": [
    "%%timeit\n",
    "first_100 = np.arange(1,101)\n",
    "first_100_squares = first_100**2\n",
    "sum_first_100_squares = sum(first_100_squares)\n",
    "sum_first_100 = sum(first_100)\n",
    "sum_first_100_squared = sum_first_100**2\n",
    "diff = sum_first_100_squared - sum_first_100_squares\n",
    "diff"
   ]
  },
  {
   "cell_type": "code",
   "execution_count": 11,
   "metadata": {
    "collapsed": false
   },
   "outputs": [
    {
     "name": "stdout",
     "output_type": "stream",
     "text": [
      "10000 loops, best of 3: 30.8 µs per loop\n"
     ]
    }
   ],
   "source": [
    "%%timeit\n",
    "first_100 = list(range(1,101))\n",
    "sum_first_100_squares = sum([i**2 for i in first_100])\n",
    "sum_first_100_squared = (sum(first_100))**2\n",
    "diff = sum_first_100_squared - sum_first_100_squares\n",
    "diff"
   ]
  },
  {
   "cell_type": "markdown",
   "metadata": {},
   "source": [
    "Find the 10,001st prime number"
   ]
  },
  {
   "cell_type": "code",
   "execution_count": 12,
   "metadata": {
    "collapsed": false
   },
   "outputs": [
    {
     "data": {
      "text/plain": [
       "104743"
      ]
     },
     "execution_count": 12,
     "metadata": {},
     "output_type": "execute_result"
    }
   ],
   "source": [
    "primelist = [0]*10001\n",
    "i = 0\n",
    "x = 2\n",
    "while i < len(primelist):\n",
    "    mf = min_factor(x)\n",
    "    if x == mf:\n",
    "        primelist[i] = x\n",
    "        i += 1\n",
    "    x += 1\n",
    "primelist[-1]"
   ]
  },
  {
   "cell_type": "markdown",
   "metadata": {},
   "source": [
    "Find the 13 adjacent digits of the big number below with the greatest product.  For comparison, the 4 adjacent digits with the greatest product are 9989: 9x9x8x9 = 5832"
   ]
  },
  {
   "cell_type": "code",
   "execution_count": 13,
   "metadata": {
    "collapsed": false
   },
   "outputs": [],
   "source": [
    "bignum = 7316717653133062491922511967442657474235534919493496983520312774506326239578318016984801869478851843858615607891129494954595017379583319528532088055111254069874715852386305071569329096329522744304355766896648950445244523161731856403098711121722383113622298934233803081353362766142828064444866452387493035890729629049156044077239071381051585930796086670172427121883998797908792274921901699720888093776657273330010533678812202354218097512545405947522435258490771167055601360483958644670632441572215539753697817977846174064955149290862569321978468622482839722413756570560574902614079729686524145351004748216637048440319989000889524345065854122758866688116427171479924442928230863465674813919123162824586178664583591245665294765456828489128831426076900422421902267105562632111110937054421750694165896040807198403850962455444362981230987879927244284909188845801561660979191338754992005240636899125607176060588611646710940507754100225698315520005593572972571636269561882670428252483600823257530420752963450"
   ]
  },
  {
   "cell_type": "code",
   "execution_count": 14,
   "metadata": {
    "collapsed": true
   },
   "outputs": [],
   "source": [
    "# gpncd = greatest product of n consecutive digits\n",
    "def gpncd(num, n):\n",
    "    numstr = str(num)\n",
    "    numdig = len(numstr)\n",
    "    assert n <= numdig, 'n cannot be greater than the number of digits of num'\n",
    "    global_prod = 0\n",
    "    for i in range(numdig-n+1):\n",
    "        substr = numstr[i:(i+n)]\n",
    "        local_prod = np.prod([int(i) for i in substr])\n",
    "        if global_prod < local_prod: global_prod = local_prod\n",
    "    return global_prod"
   ]
  },
  {
   "cell_type": "code",
   "execution_count": 15,
   "metadata": {
    "collapsed": false
   },
   "outputs": [
    {
     "data": {
      "text/plain": [
       "23514624000"
      ]
     },
     "execution_count": 15,
     "metadata": {},
     "output_type": "execute_result"
    }
   ],
   "source": [
    "gpncd(bignum, 13)"
   ]
  },
  {
   "cell_type": "markdown",
   "metadata": {},
   "source": [
    "Find the product abc of the Pythagorean triplet for which a + b + c = 1000. "
   ]
  },
  {
   "cell_type": "markdown",
   "metadata": {},
   "source": [
    "There exists a formula for generating Pythagorean triples uniquely, but I'll go with a naive, brute force approach"
   ]
  },
  {
   "cell_type": "code",
   "execution_count": 2,
   "metadata": {
    "collapsed": false
   },
   "outputs": [],
   "source": [
    "def pyth_prod(n):\n",
    "    for a in range(1, n//2 + 1):\n",
    "        for b in range(a+1, n//2 + 1):\n",
    "            c = (a**2 + b**2)**(0.5)\n",
    "            if a+b+c == 1.*n:\n",
    "                return (a,b,int(c),int(a*b*c))\n",
    "    print('No Pythagorean triple sums to',n)\n",
    "    return"
   ]
  },
  {
   "cell_type": "code",
   "execution_count": 3,
   "metadata": {
    "collapsed": false
   },
   "outputs": [
    {
     "name": "stdout",
     "output_type": "stream",
     "text": [
      "No Pythagorean triple sums to 999\n"
     ]
    }
   ],
   "source": [
    "pyth_prod(999)"
   ]
  },
  {
   "cell_type": "markdown",
   "metadata": {},
   "source": [
    "Exploiting the formula for generating Pythagorean triples results in a *much* faster function."
   ]
  },
  {
   "cell_type": "code",
   "execution_count": 25,
   "metadata": {
    "collapsed": true
   },
   "outputs": [],
   "source": [
    "def new_pyth_prod(x):\n",
    "    if x % 2 == 1:\n",
    "        print('No Pythagorean triple sums to',x,', since it is an odd number')\n",
    "        return\n",
    "    else:\n",
    "        for m in range(2, int((x/2)**0.5) + 1):\n",
    "            for n in range(1,m):\n",
    "                # Before scaling them up, \n",
    "                # a+b+c = 2*m*(m+n)\n",
    "                if x % (2*m*(m+n)) == 0:\n",
    "                    k = x // (2*m*(m+n))\n",
    "                    a = k*2*m*n\n",
    "                    b = k*(m**2 - n**2)\n",
    "                    c = k*(m**2 + n**2)\n",
    "                    return (a,b,c,a*b*c)\n",
    "    print('No Pythagorean triple sums to',x)\n",
    "    return"
   ]
  },
  {
   "cell_type": "code",
   "execution_count": 26,
   "metadata": {
    "collapsed": false
   },
   "outputs": [
    {
     "name": "stdout",
     "output_type": "stream",
     "text": [
      "No Pythagorean triple sums to 999 , since it is an odd number\n"
     ]
    }
   ],
   "source": [
    "new_pyth_prod(999)"
   ]
  },
  {
   "cell_type": "code",
   "execution_count": 33,
   "metadata": {
    "collapsed": false,
    "scrolled": true
   },
   "outputs": [
    {
     "name": "stdout",
     "output_type": "stream",
     "text": [
      "1 loop, best of 3: 7.39 s per loop\n"
     ]
    }
   ],
   "source": [
    "%%timeit\n",
    "pyth_prod(10000)"
   ]
  },
  {
   "cell_type": "code",
   "execution_count": 32,
   "metadata": {
    "collapsed": false
   },
   "outputs": [
    {
     "name": "stdout",
     "output_type": "stream",
     "text": [
      "100000 loops, best of 3: 3.65 µs per loop\n"
     ]
    }
   ],
   "source": [
    "%%timeit\n",
    "new_pyth_prod(10000)"
   ]
  },
  {
   "cell_type": "code",
   "execution_count": 18,
   "metadata": {
    "collapsed": false
   },
   "outputs": [
    {
     "data": {
      "text/plain": [
       "True"
      ]
     },
     "execution_count": 18,
     "metadata": {},
     "output_type": "execute_result"
    }
   ],
   "source": [
    "200**2 + 375**2 == 425**2"
   ]
  },
  {
   "cell_type": "markdown",
   "metadata": {},
   "source": [
    "Find the sum of primes below 2 million"
   ]
  },
  {
   "cell_type": "code",
   "execution_count": 19,
   "metadata": {
    "collapsed": true
   },
   "outputs": [],
   "source": [
    "def prime_sum(x):\n",
    "    assert (type(x) == int) and (x >= 2), 'x must be an integer greater than or equal to 2'\n",
    "    psum = 2\n",
    "    if x == 2: return psum\n",
    "    for i in range(3,x+1,2):\n",
    "        mf = min_factor(i)\n",
    "        if i == mf:\n",
    "            psum += i\n",
    "    return psum"
   ]
  },
  {
   "cell_type": "code",
   "execution_count": 20,
   "metadata": {
    "collapsed": false
   },
   "outputs": [
    {
     "data": {
      "text/plain": [
       "142913828922"
      ]
     },
     "execution_count": 20,
     "metadata": {},
     "output_type": "execute_result"
    }
   ],
   "source": [
    "prime_sum(2000000)"
   ]
  },
  {
   "cell_type": "markdown",
   "metadata": {},
   "source": [
    "The Signal instructors wanted us to write a function which finds the index of the maximum value (if it appears more than once, the first such index) in a list or array.  They were evidently unaware that such functionality already exists in the form of the ```list.index()``` and ```numpy.ndarray.argmax()``` methods."
   ]
  },
  {
   "cell_type": "code",
   "execution_count": 21,
   "metadata": {
    "collapsed": false
   },
   "outputs": [
    {
     "data": {
      "text/plain": [
       "6"
      ]
     },
     "execution_count": 21,
     "metadata": {},
     "output_type": "execute_result"
    }
   ],
   "source": [
    "l = [1,5,8,3,5,8,9,3,3,5,9,9,5,3,9]\n",
    "arr = np.array(l)\n",
    "l.index(max(l))\n",
    "arr.argmax()"
   ]
  },
  {
   "cell_type": "code",
   "execution_count": 22,
   "metadata": {
    "collapsed": true
   },
   "outputs": [],
   "source": [
    "def longest_run(l):\n",
    "    max_num   = l[0]\n",
    "    max_tally = 1\n",
    "    cur_num   = l[0]\n",
    "    cur_tally = 1\n",
    "    for e in l:\n",
    "        if e == cur_num:\n",
    "            cur_tally += 1\n",
    "            if cur_tally > max_tally:\n",
    "                max_num = cur_num\n",
    "                max_tally = cur_tally\n",
    "        else: \n",
    "            cur_num = e\n",
    "            cur_tally = 1\n",
    "    return [max_num]*max_tally"
   ]
  },
  {
   "cell_type": "code",
   "execution_count": 23,
   "metadata": {
    "collapsed": false
   },
   "outputs": [
    {
     "data": {
      "text/plain": [
       "[4, 4, 4, 4]"
      ]
     },
     "execution_count": 23,
     "metadata": {},
     "output_type": "execute_result"
    }
   ],
   "source": [
    "l = [3,3,1,2,2,4,4,4,4,5]\n",
    "longest_run(l)"
   ]
  },
  {
   "cell_type": "markdown",
   "metadata": {
    "collapsed": true
   },
   "source": [
    "Use the Sieve of Erastosthenes to find all prime numbers up to a positive integer n >= 2."
   ]
  },
  {
   "cell_type": "code",
   "execution_count": 24,
   "metadata": {
    "collapsed": true
   },
   "outputs": [],
   "source": [
    "def sieve(n):\n",
    "    assert type(n) == int and n >= 2, 'n must be a positive integer >= 2'\n",
    "    keep   = list(range(2,n+1))\n",
    "    remove = [keep[0]*i for i in range(2,n//keep[0]+1)]\n",
    "    j = 1\n",
    "    while len(remove) > 0:\n",
    "        keep   = [e for e in keep if e not in remove]\n",
    "        remove = [keep[j]*k for k in range(2,n//keep[j]+1)]\n",
    "        j += 1\n",
    "    return keep"
   ]
  },
  {
   "cell_type": "code",
   "execution_count": 25,
   "metadata": {
    "collapsed": false
   },
   "outputs": [
    {
     "data": {
      "text/plain": [
       "[2, 3, 5, 7, 11, 13]"
      ]
     },
     "execution_count": 25,
     "metadata": {},
     "output_type": "execute_result"
    }
   ],
   "source": [
    "sieve(15)"
   ]
  },
  {
   "cell_type": "code",
   "execution_count": 26,
   "metadata": {
    "collapsed": false
   },
   "outputs": [
    {
     "data": {
      "text/plain": [
       "25"
      ]
     },
     "execution_count": 26,
     "metadata": {},
     "output_type": "execute_result"
    }
   ],
   "source": [
    "len(sieve(100))"
   ]
  },
  {
   "cell_type": "markdown",
   "metadata": {},
   "source": [
    "Quicksort"
   ]
  },
  {
   "cell_type": "code",
   "execution_count": 27,
   "metadata": {
    "collapsed": true
   },
   "outputs": [],
   "source": [
    "def quicksort(l):\n",
    "    if len(l) <= 1:\n",
    "        return l\n",
    "    i = random.randint(0,len(l)-1)\n",
    "    pivot = l[i]\n",
    "    lesser  = [e for e in l if e < pivot]\n",
    "    equal   = [e for e in l if e == pivot]\n",
    "    greater = [e for e in l if e > pivot]\n",
    "    return quicksort(lesser) + equal + quicksort(greater) "
   ]
  },
  {
   "cell_type": "code",
   "execution_count": 28,
   "metadata": {
    "collapsed": false
   },
   "outputs": [
    {
     "data": {
      "text/plain": [
       "[1, 2, 2, 3, 4]"
      ]
     },
     "execution_count": 28,
     "metadata": {},
     "output_type": "execute_result"
    }
   ],
   "source": [
    "l = [2, 4, 1, 2, 3]\n",
    "quicksort(l)"
   ]
  },
  {
   "cell_type": "markdown",
   "metadata": {},
   "source": [
    "Quickselect"
   ]
  },
  {
   "cell_type": "code",
   "execution_count": 199,
   "metadata": {
    "collapsed": false
   },
   "outputs": [],
   "source": [
    "# Find the kth greatest or least element of l\n",
    "def quickselect(l, k, greatest=True):\n",
    "    lenl = len(l)\n",
    "    assert lenl >  0, 'Argument l must not be an empty list'\n",
    "    assert lenl >= k, 'Argument k must not be greater than the length of l'\n",
    "    if lenl == 1: return l[0]\n",
    "    i = random.randint(0,lenl-1)\n",
    "    pivot   = l[i]\n",
    "    lesser  = []\n",
    "    equal   = []\n",
    "    greater = []\n",
    "    for e in l:\n",
    "        if   e <  pivot: lesser.append(e)\n",
    "        elif e == pivot: equal.append(e)\n",
    "        elif e >  pivot: greater.append(e)\n",
    "    ll = len(lesser)\n",
    "    le = len(equal)\n",
    "    lg = len(greater)\n",
    "    lo = max(0,k-le)\n",
    "    hi = k-1\n",
    "    if greatest:\n",
    "        if lg in range(lo,hi+1):\n",
    "            return pivot\n",
    "        elif lg > hi:\n",
    "            return quickselect(equal+greater, k, greatest)\n",
    "        elif lg < lo:\n",
    "            return quickselect(l, k, greatest)\n",
    "    else:\n",
    "        if ll in range(lo,hi+1):\n",
    "            return pivot\n",
    "        elif ll > hi:\n",
    "            return quickselect(lesser+equal, k, greatest)\n",
    "        elif ll < lo:\n",
    "            return quickselect(l, k, greatest)"
   ]
  },
  {
   "cell_type": "code",
   "execution_count": 209,
   "metadata": {
    "collapsed": false
   },
   "outputs": [
    {
     "name": "stdout",
     "output_type": "stream",
     "text": [
      "0th element = 2\n"
     ]
    },
    {
     "data": {
      "text/plain": [
       "True"
      ]
     },
     "execution_count": 209,
     "metadata": {},
     "output_type": "execute_result"
    }
   ],
   "source": [
    "l = [2,3,1,3,2,3]\n",
    "k = 4\n",
    "greatest = True\n",
    "testl = [quickselect(l, k, greatest) for i in range(100)]\n",
    "print('0th element =',testl[0])\n",
    "testl[1:] == testl[:-1]"
   ]
  },
  {
   "cell_type": "markdown",
   "metadata": {},
   "source": [
    "Naive permutation generator for all positive integers from 1 to n, inclusive"
   ]
  },
  {
   "cell_type": "code",
   "execution_count": 213,
   "metadata": {
    "collapsed": true
   },
   "outputs": [],
   "source": [
    "def perm_naive(n):\n",
    "    if n == 1:\n",
    "        return [[1]]\n",
    "    else:\n",
    "        last_perms = perm_naive(n-1)\n",
    "        perms = []\n",
    "        for i in range(len(last_perms)):\n",
    "            for j in range(n):\n",
    "                lpi = last_perms[i].copy()\n",
    "                lpi.insert(n-1-j,n)\n",
    "                perms.append(lpi)\n",
    "    return perms           "
   ]
  },
  {
   "cell_type": "code",
   "execution_count": 215,
   "metadata": {
    "collapsed": false
   },
   "outputs": [
    {
     "data": {
      "text/plain": [
       "[[1, 2, 3], [1, 3, 2], [3, 1, 2], [2, 1, 3], [2, 3, 1], [3, 2, 1]]"
      ]
     },
     "execution_count": 215,
     "metadata": {},
     "output_type": "execute_result"
    }
   ],
   "source": [
    "perm_naive(3)"
   ]
  },
  {
   "cell_type": "code",
   "execution_count": 216,
   "metadata": {
    "collapsed": true
   },
   "outputs": [],
   "source": [
    "# Switch any two elements within a list l equal to x and y in place\n",
    "def switch_list(l,x,y):\n",
    "    assert type(l) == list, 'Argument l must be a list'\n",
    "    assert x != y, 'x cannot equal y. Trying to switch identical values is pointless.'\n",
    "    oldl = l.copy()\n",
    "    l[l.index(x)], l[l.index(y)] = l[l.index(y)], l[l.index(x)]\n",
    "    if oldl == l:\n",
    "        l[l.index(y)], l[l.index(x)] = l[l.index(x)], l[l.index(y)]\n",
    "    return l"
   ]
  },
  {
   "cell_type": "code",
   "execution_count": 221,
   "metadata": {
    "collapsed": false
   },
   "outputs": [
    {
     "data": {
      "text/plain": [
       "[4, 2, 3, 1]"
      ]
     },
     "execution_count": 221,
     "metadata": {},
     "output_type": "execute_result"
    }
   ],
   "source": [
    "l = [1,2,3,4]\n",
    "switch_list(l,1,4)\n",
    "l"
   ]
  },
  {
   "cell_type": "code",
   "execution_count": null,
   "metadata": {
    "collapsed": true
   },
   "outputs": [],
   "source": []
  },
  {
   "cell_type": "code",
   "execution_count": 59,
   "metadata": {
    "collapsed": true
   },
   "outputs": [],
   "source": [
    "# Within each list element of a larger list, switch any two elements equal to x and y in place\n",
    "def switch(ll,x,y):\n",
    "    assert type(ll) == list, 'Argument ll must be a list'\n",
    "    assert x != y, 'x cannot equal y. Trying to switch identical values is pointless.'\n",
    "    for l in ll:\n",
    "        switch_list(l,x,y)\n",
    "    return ll"
   ]
  },
  {
   "cell_type": "markdown",
   "metadata": {},
   "source": [
    "Generate the permutations of all positive integers from 1 to n, inclusive, in lexicographic order"
   ]
  },
  {
   "cell_type": "markdown",
   "metadata": {},
   "source": [
    "Find the next lexicographic permutation of the current list by doing the following:"
   ]
  },
  {
   "cell_type": "markdown",
   "metadata": {},
   "source": [
    "1) Find the largest index k such that l[k] < l[k + 1]. If no such index exists, the permutation is the last permutation."
   ]
  },
  {
   "cell_type": "markdown",
   "metadata": {},
   "source": [
    "2) Find the largest index m greater than k such that l[k] < l[m]."
   ]
  },
  {
   "cell_type": "markdown",
   "metadata": {},
   "source": [
    "3) Swap the value of l[k] with that of l[m]."
   ]
  },
  {
   "cell_type": "markdown",
   "metadata": {},
   "source": [
    "4) Reverse the sequence from l[k + 1] up to and including the final element of l."
   ]
  },
  {
   "cell_type": "code",
   "execution_count": 31,
   "metadata": {
    "collapsed": false
   },
   "outputs": [],
   "source": [
    "def next_permutation(l):\n",
    "    # Find the largest index k such that l[k] < l[k + 1]\n",
    "    # If no such index exists, the permutation is the last permutation\n",
    "    k = None\n",
    "    for i in range(len(l)-1): \n",
    "        if l[i] < l[i+1]: k = i\n",
    "    if k is not None:\n",
    "        # Find the largest index m greater than k such that l[k] < l[m]\n",
    "        m = k+1\n",
    "        for j in range(k+2,len(l)):\n",
    "            if l[k] < l[j]:\n",
    "                m = j\n",
    "        # Swap the value of l[k] with that of l[m]\n",
    "        l[k], l[m] = l[m], l[k]\n",
    "        # Reverse the sequence from l[k + 1] up to and including \n",
    "        # the final element of l\n",
    "        l[(k+1):] = reversed(l[(k+1):])\n",
    "    return l"
   ]
  },
  {
   "cell_type": "code",
   "execution_count": 40,
   "metadata": {
    "collapsed": false
   },
   "outputs": [],
   "source": [
    "def perm_lex(n):\n",
    "    original = list(range(1,n+1))\n",
    "    perms = [original]\n",
    "    for i in range(1,math.factorial(n)):\n",
    "        p = perms[-1].copy()\n",
    "        next_permutation(p)\n",
    "        perms.append(p)\n",
    "    return perms"
   ]
  },
  {
   "cell_type": "code",
   "execution_count": 42,
   "metadata": {
    "collapsed": false
   },
   "outputs": [
    {
     "data": {
      "text/plain": [
       "[[1, 2, 3, 4],\n",
       " [1, 2, 4, 3],\n",
       " [1, 3, 2, 4],\n",
       " [1, 3, 4, 2],\n",
       " [1, 4, 2, 3],\n",
       " [1, 4, 3, 2],\n",
       " [2, 1, 3, 4],\n",
       " [2, 1, 4, 3],\n",
       " [2, 3, 1, 4],\n",
       " [2, 3, 4, 1],\n",
       " [2, 4, 1, 3],\n",
       " [2, 4, 3, 1],\n",
       " [3, 1, 2, 4],\n",
       " [3, 1, 4, 2],\n",
       " [3, 2, 1, 4],\n",
       " [3, 2, 4, 1],\n",
       " [3, 4, 1, 2],\n",
       " [3, 4, 2, 1],\n",
       " [4, 1, 2, 3],\n",
       " [4, 1, 3, 2],\n",
       " [4, 2, 1, 3],\n",
       " [4, 2, 3, 1],\n",
       " [4, 3, 1, 2],\n",
       " [4, 3, 2, 1]]"
      ]
     },
     "execution_count": 42,
     "metadata": {},
     "output_type": "execute_result"
    }
   ],
   "source": [
    "perm_lex(4)"
   ]
  },
  {
   "cell_type": "markdown",
   "metadata": {
    "collapsed": true
   },
   "source": [
    "IGNORE the permutation function below!  It is far, far too slow!"
   ]
  },
  {
   "cell_type": "code",
   "execution_count": 222,
   "metadata": {
    "collapsed": false
   },
   "outputs": [],
   "source": [
    "#def perm_lex(n):\n",
    "#    original = list(range(1,n+1))\n",
    "#    perm = [original]\n",
    "#    # Initialize the counter\n",
    "#    counter = 0\n",
    "#    # Ensure that the permutation list only has n! elements\n",
    "#    while counter < math.factorial(n)-1:\n",
    "#        # Permute the ith element from the right of each sublist, \n",
    "#        # starting with the second and continuing to the rightmost\n",
    "#        for i in range(2, n+1):\n",
    "#            # Reset the local counter\n",
    "#            lc = 0\n",
    "#            inc = math.factorial(i-1)\n",
    "#            for j in range(i-1):\n",
    "#                subperm = perm[lc:(lc+inc)].copy()\n",
    "#                switch(subperm,n-i+j+1,n-i+j+2)\n",
    "#                perm += subperm\n",
    "#                lc += inc\n",
    "#                counter += inc\n",
    "#    return perm"
   ]
  },
  {
   "cell_type": "markdown",
   "metadata": {},
   "source": [
    "A different lexicographic permutation function, exploiting Python's ```sort()``` method for lists (in this case lists of lists)"
   ]
  },
  {
   "cell_type": "code",
   "execution_count": 60,
   "metadata": {
    "collapsed": false
   },
   "outputs": [],
   "source": [
    "def perm_sort(n):\n",
    "    perm = perm_naive(n)\n",
    "    perm.sort()\n",
    "    return perm"
   ]
  },
  {
   "cell_type": "code",
   "execution_count": 43,
   "metadata": {
    "collapsed": false
   },
   "outputs": [
    {
     "name": "stdout",
     "output_type": "stream",
     "text": [
      "10000 loops, best of 3: 35.9 µs per loop\n"
     ]
    }
   ],
   "source": [
    "%%timeit\n",
    "perm_naive(4)"
   ]
  },
  {
   "cell_type": "code",
   "execution_count": 45,
   "metadata": {
    "collapsed": false
   },
   "outputs": [
    {
     "name": "stdout",
     "output_type": "stream",
     "text": [
      "10000 loops, best of 3: 162 µs per loop\n"
     ]
    }
   ],
   "source": [
    "%%timeit\n",
    "perm_naive(5)"
   ]
  },
  {
   "cell_type": "code",
   "execution_count": 46,
   "metadata": {
    "collapsed": false
   },
   "outputs": [
    {
     "name": "stdout",
     "output_type": "stream",
     "text": [
      "1000 loops, best of 3: 903 µs per loop\n"
     ]
    }
   ],
   "source": [
    "%%timeit\n",
    "perm_naive(6)"
   ]
  },
  {
   "cell_type": "code",
   "execution_count": 47,
   "metadata": {
    "collapsed": false
   },
   "outputs": [
    {
     "name": "stdout",
     "output_type": "stream",
     "text": [
      "100 loops, best of 3: 5.91 ms per loop\n"
     ]
    }
   ],
   "source": [
    "%%timeit\n",
    "perm_naive(7)"
   ]
  },
  {
   "cell_type": "code",
   "execution_count": 48,
   "metadata": {
    "collapsed": false
   },
   "outputs": [
    {
     "name": "stdout",
     "output_type": "stream",
     "text": [
      "10 loops, best of 3: 45 ms per loop\n"
     ]
    }
   ],
   "source": [
    "%%timeit\n",
    "perm_naive(8)"
   ]
  },
  {
   "cell_type": "code",
   "execution_count": 49,
   "metadata": {
    "collapsed": false
   },
   "outputs": [
    {
     "name": "stdout",
     "output_type": "stream",
     "text": [
      "1 loop, best of 3: 439 ms per loop\n"
     ]
    }
   ],
   "source": [
    "%%timeit\n",
    "perm_naive(9)"
   ]
  },
  {
   "cell_type": "code",
   "execution_count": 50,
   "metadata": {
    "collapsed": false
   },
   "outputs": [
    {
     "name": "stdout",
     "output_type": "stream",
     "text": [
      "1 loop, best of 3: 4.41 s per loop\n"
     ]
    }
   ],
   "source": [
    "%%timeit\n",
    "perm_naive(10)"
   ]
  },
  {
   "cell_type": "code",
   "execution_count": 51,
   "metadata": {
    "collapsed": false
   },
   "outputs": [
    {
     "name": "stdout",
     "output_type": "stream",
     "text": [
      "10000 loops, best of 3: 53.8 µs per loop\n"
     ]
    }
   ],
   "source": [
    "%%timeit\n",
    "perm_lex(4)"
   ]
  },
  {
   "cell_type": "code",
   "execution_count": 52,
   "metadata": {
    "collapsed": false
   },
   "outputs": [
    {
     "name": "stdout",
     "output_type": "stream",
     "text": [
      "1000 loops, best of 3: 294 µs per loop\n"
     ]
    }
   ],
   "source": [
    "%%timeit\n",
    "perm_lex(5)"
   ]
  },
  {
   "cell_type": "code",
   "execution_count": 53,
   "metadata": {
    "collapsed": false
   },
   "outputs": [
    {
     "name": "stdout",
     "output_type": "stream",
     "text": [
      "1000 loops, best of 3: 1.78 ms per loop\n"
     ]
    }
   ],
   "source": [
    "%%timeit\n",
    "perm_lex(6)"
   ]
  },
  {
   "cell_type": "code",
   "execution_count": 54,
   "metadata": {
    "collapsed": false
   },
   "outputs": [
    {
     "name": "stdout",
     "output_type": "stream",
     "text": [
      "100 loops, best of 3: 13.2 ms per loop\n"
     ]
    }
   ],
   "source": [
    "%%timeit\n",
    "perm_lex(7)"
   ]
  },
  {
   "cell_type": "code",
   "execution_count": 55,
   "metadata": {
    "collapsed": false
   },
   "outputs": [
    {
     "name": "stdout",
     "output_type": "stream",
     "text": [
      "10 loops, best of 3: 108 ms per loop\n"
     ]
    }
   ],
   "source": [
    "%%timeit\n",
    "perm_lex(8)"
   ]
  },
  {
   "cell_type": "code",
   "execution_count": 56,
   "metadata": {
    "collapsed": false
   },
   "outputs": [
    {
     "name": "stdout",
     "output_type": "stream",
     "text": [
      "1 loop, best of 3: 1.02 s per loop\n"
     ]
    }
   ],
   "source": [
    "%%timeit\n",
    "perm_lex(9)"
   ]
  },
  {
   "cell_type": "code",
   "execution_count": 57,
   "metadata": {
    "collapsed": false
   },
   "outputs": [
    {
     "name": "stdout",
     "output_type": "stream",
     "text": [
      "1 loop, best of 3: 10.8 s per loop\n"
     ]
    }
   ],
   "source": [
    "%%timeit\n",
    "perm_lex(10)"
   ]
  },
  {
   "cell_type": "code",
   "execution_count": 61,
   "metadata": {
    "collapsed": false
   },
   "outputs": [
    {
     "name": "stdout",
     "output_type": "stream",
     "text": [
      "10000 loops, best of 3: 39.2 µs per loop\n"
     ]
    }
   ],
   "source": [
    "%%timeit\n",
    "perm_sort(4)"
   ]
  },
  {
   "cell_type": "code",
   "execution_count": 62,
   "metadata": {
    "collapsed": false
   },
   "outputs": [
    {
     "name": "stdout",
     "output_type": "stream",
     "text": [
      "10000 loops, best of 3: 195 µs per loop\n"
     ]
    }
   ],
   "source": [
    "%%timeit\n",
    "perm_sort(5)"
   ]
  },
  {
   "cell_type": "code",
   "execution_count": 63,
   "metadata": {
    "collapsed": false
   },
   "outputs": [
    {
     "name": "stdout",
     "output_type": "stream",
     "text": [
      "1000 loops, best of 3: 1.13 ms per loop\n"
     ]
    }
   ],
   "source": [
    "%%timeit\n",
    "perm_sort(6)"
   ]
  },
  {
   "cell_type": "code",
   "execution_count": 64,
   "metadata": {
    "collapsed": false
   },
   "outputs": [
    {
     "name": "stdout",
     "output_type": "stream",
     "text": [
      "100 loops, best of 3: 8.12 ms per loop\n"
     ]
    }
   ],
   "source": [
    "%%timeit\n",
    "perm_sort(7)"
   ]
  },
  {
   "cell_type": "code",
   "execution_count": 65,
   "metadata": {
    "collapsed": false
   },
   "outputs": [
    {
     "name": "stdout",
     "output_type": "stream",
     "text": [
      "10 loops, best of 3: 69.1 ms per loop\n"
     ]
    }
   ],
   "source": [
    "%%timeit\n",
    "perm_sort(8)"
   ]
  },
  {
   "cell_type": "code",
   "execution_count": 66,
   "metadata": {
    "collapsed": false
   },
   "outputs": [
    {
     "name": "stdout",
     "output_type": "stream",
     "text": [
      "1 loop, best of 3: 766 ms per loop\n"
     ]
    }
   ],
   "source": [
    "%%timeit\n",
    "perm_sort(9)"
   ]
  },
  {
   "cell_type": "code",
   "execution_count": 67,
   "metadata": {
    "collapsed": false
   },
   "outputs": [
    {
     "name": "stdout",
     "output_type": "stream",
     "text": [
      "1 loop, best of 3: 8.54 s per loop\n"
     ]
    }
   ],
   "source": [
    "%%timeit\n",
    "perm_sort(10)"
   ]
  },
  {
   "cell_type": "code",
   "execution_count": null,
   "metadata": {
    "collapsed": true
   },
   "outputs": [],
   "source": []
  },
  {
   "cell_type": "code",
   "execution_count": null,
   "metadata": {
    "collapsed": true
   },
   "outputs": [],
   "source": []
  },
  {
   "cell_type": "code",
   "execution_count": null,
   "metadata": {
    "collapsed": true
   },
   "outputs": [],
   "source": []
  },
  {
   "cell_type": "code",
   "execution_count": null,
   "metadata": {
    "collapsed": true
   },
   "outputs": [],
   "source": []
  },
  {
   "cell_type": "code",
   "execution_count": null,
   "metadata": {
    "collapsed": true
   },
   "outputs": [],
   "source": []
  },
  {
   "cell_type": "code",
   "execution_count": null,
   "metadata": {
    "collapsed": true
   },
   "outputs": [],
   "source": []
  },
  {
   "cell_type": "code",
   "execution_count": null,
   "metadata": {
    "collapsed": true
   },
   "outputs": [],
   "source": []
  },
  {
   "cell_type": "code",
   "execution_count": null,
   "metadata": {
    "collapsed": true
   },
   "outputs": [],
   "source": []
  },
  {
   "cell_type": "code",
   "execution_count": null,
   "metadata": {
    "collapsed": true
   },
   "outputs": [],
   "source": []
  },
  {
   "cell_type": "code",
   "execution_count": null,
   "metadata": {
    "collapsed": true
   },
   "outputs": [],
   "source": []
  },
  {
   "cell_type": "code",
   "execution_count": null,
   "metadata": {
    "collapsed": true
   },
   "outputs": [],
   "source": []
  },
  {
   "cell_type": "code",
   "execution_count": null,
   "metadata": {
    "collapsed": true
   },
   "outputs": [],
   "source": []
  },
  {
   "cell_type": "code",
   "execution_count": null,
   "metadata": {
    "collapsed": true
   },
   "outputs": [],
   "source": []
  },
  {
   "cell_type": "code",
   "execution_count": null,
   "metadata": {
    "collapsed": true
   },
   "outputs": [],
   "source": []
  },
  {
   "cell_type": "code",
   "execution_count": null,
   "metadata": {
    "collapsed": true
   },
   "outputs": [],
   "source": []
  },
  {
   "cell_type": "code",
   "execution_count": null,
   "metadata": {
    "collapsed": true
   },
   "outputs": [],
   "source": []
  },
  {
   "cell_type": "code",
   "execution_count": null,
   "metadata": {
    "collapsed": true
   },
   "outputs": [],
   "source": []
  }
 ],
 "metadata": {
  "kernelspec": {
   "display_name": "Python 3",
   "language": "python",
   "name": "python3"
  },
  "language_info": {
   "codemirror_mode": {
    "name": "ipython",
    "version": 3
   },
   "file_extension": ".py",
   "mimetype": "text/x-python",
   "name": "python",
   "nbconvert_exporter": "python",
   "pygments_lexer": "ipython3",
   "version": "3.4.5"
  }
 },
 "nbformat": 4,
 "nbformat_minor": 0
}
